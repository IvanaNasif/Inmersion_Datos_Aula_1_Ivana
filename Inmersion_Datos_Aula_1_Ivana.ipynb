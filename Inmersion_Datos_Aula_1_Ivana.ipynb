{
  "nbformat": 4,
  "nbformat_minor": 0,
  "metadata": {
    "colab": {
      "provenance": [],
      "authorship_tag": "ABX9TyProZ4ddXo9fBYZf322OWdW",
      "include_colab_link": true
    },
    "kernelspec": {
      "name": "python3",
      "display_name": "Python 3"
    },
    "language_info": {
      "name": "python"
    }
  },
  "cells": [
    {
      "cell_type": "markdown",
      "metadata": {
        "id": "view-in-github",
        "colab_type": "text"
      },
      "source": [
        "<a href=\"https://colab.research.google.com/github/IvanaNasif/Inmersion_Datos_Aula_1_Ivana/blob/main/Inmersion_Datos_Aula_1_Ivana.ipynb\" target=\"_parent\"><img src=\"https://colab.research.google.com/assets/colab-badge.svg\" alt=\"Open In Colab\"/></a>"
      ]
    },
    {
      "cell_type": "markdown",
      "source": [
        "\n",
        "# **Primer encuentro de inmersion de datos**\n",
        "\n",
        "\n"
      ],
      "metadata": {
        "id": "-VtuSBHvL_uN"
      }
    },
    {
      "cell_type": "markdown",
      "source": [
        "1-Primero conectamos google colab con el archivo que se encuentra en el drive para poder trabajar con el."
      ],
      "metadata": {
        "id": "_Hyqz7H_Os5x"
      }
    },
    {
      "cell_type": "code",
      "execution_count": 56,
      "metadata": {
        "colab": {
          "base_uri": "https://localhost:8080/"
        },
        "id": "4_TqHlpGJoIs",
        "outputId": "39bbb593-2b82-47c7-95d6-1a375b2f41ed"
      },
      "outputs": [
        {
          "output_type": "stream",
          "name": "stdout",
          "text": [
            "Drive already mounted at /content/drive; to attempt to forcibly remount, call drive.mount(\"/content/drive\", force_remount=True).\n"
          ]
        }
      ],
      "source": [
        "from google.colab import drive\n",
        "drive.mount('/content/drive')"
      ]
    },
    {
      "cell_type": "markdown",
      "source": [
        "2-Importamos la libreria panda de phyton y le ponemos un alias.\n",
        " -luego creamos una variable a la que le asignamos como parametro la ruta del archivo csv\n",
        " -Se llama a la variable con el nombre y se accede al atributo **head**, para visuaizar una fraccion de la informacion."
      ],
      "metadata": {
        "id": "zYZpvqo8PzDX"
      }
    },
    {
      "cell_type": "code",
      "source": [
        "import pandas as pd\n",
        "inmuebles = pd.read_csv('/content/drive/MyDrive/Inmersion-datos/inmuebles_bogota.csv')\n",
        "inmuebles.head()\n"
      ],
      "metadata": {
        "colab": {
          "base_uri": "https://localhost:8080/",
          "height": 337
        },
        "id": "9n4tihsYNyfo",
        "outputId": "3c315a3b-e9dd-40e0-a12c-053aed6194a9"
      },
      "execution_count": 57,
      "outputs": [
        {
          "output_type": "execute_result",
          "data": {
            "text/plain": [
              "          Tipo                                 Descripcion  Habitaciones  \\\n",
              "0  Apartamento  Apartamento en venta en Zona Noroccidental             3   \n",
              "1         Casa                   Casa en venta en Castilla             4   \n",
              "2  Apartamento     Apartamento en venta en Chico Reservado             3   \n",
              "3  Apartamento             Apartamento en venta en Usaquén             3   \n",
              "4  Apartamento         Apartamento en venta en Bella Suiza             2   \n",
              "\n",
              "   Baños  Área              Barrio                                    UPZ  \\\n",
              "0      2    70  Zona Noroccidental     CHAPINERO: Pardo Rubio + Chapinero   \n",
              "1      3   170            Castilla            KENNEDY: Castilla + Bavaria   \n",
              "2      3   144     Chico Reservado     CHAPINERO: Chicó Lago + El Refugio   \n",
              "3      2   154             Usaquén                                Usaquén   \n",
              "4      3   128         Bella Suiza  USAQUÉN: Country Club + Santa Bárbara   \n",
              "\n",
              "             Valor  \n",
              "0    $ 360.000.000  \n",
              "1    $ 670.000.000  \n",
              "2  $ 1.120.000.000  \n",
              "3    $ 890.000.000  \n",
              "4    $ 970.000.000  "
            ],
            "text/html": [
              "\n",
              "  <div id=\"df-6fc3d82c-7a89-4ee8-a120-d2e21933ff80\">\n",
              "    <div class=\"colab-df-container\">\n",
              "      <div>\n",
              "<style scoped>\n",
              "    .dataframe tbody tr th:only-of-type {\n",
              "        vertical-align: middle;\n",
              "    }\n",
              "\n",
              "    .dataframe tbody tr th {\n",
              "        vertical-align: top;\n",
              "    }\n",
              "\n",
              "    .dataframe thead th {\n",
              "        text-align: right;\n",
              "    }\n",
              "</style>\n",
              "<table border=\"1\" class=\"dataframe\">\n",
              "  <thead>\n",
              "    <tr style=\"text-align: right;\">\n",
              "      <th></th>\n",
              "      <th>Tipo</th>\n",
              "      <th>Descripcion</th>\n",
              "      <th>Habitaciones</th>\n",
              "      <th>Baños</th>\n",
              "      <th>Área</th>\n",
              "      <th>Barrio</th>\n",
              "      <th>UPZ</th>\n",
              "      <th>Valor</th>\n",
              "    </tr>\n",
              "  </thead>\n",
              "  <tbody>\n",
              "    <tr>\n",
              "      <th>0</th>\n",
              "      <td>Apartamento</td>\n",
              "      <td>Apartamento en venta en Zona Noroccidental</td>\n",
              "      <td>3</td>\n",
              "      <td>2</td>\n",
              "      <td>70</td>\n",
              "      <td>Zona Noroccidental</td>\n",
              "      <td>CHAPINERO: Pardo Rubio + Chapinero</td>\n",
              "      <td>$ 360.000.000</td>\n",
              "    </tr>\n",
              "    <tr>\n",
              "      <th>1</th>\n",
              "      <td>Casa</td>\n",
              "      <td>Casa en venta en Castilla</td>\n",
              "      <td>4</td>\n",
              "      <td>3</td>\n",
              "      <td>170</td>\n",
              "      <td>Castilla</td>\n",
              "      <td>KENNEDY: Castilla + Bavaria</td>\n",
              "      <td>$ 670.000.000</td>\n",
              "    </tr>\n",
              "    <tr>\n",
              "      <th>2</th>\n",
              "      <td>Apartamento</td>\n",
              "      <td>Apartamento en venta en Chico Reservado</td>\n",
              "      <td>3</td>\n",
              "      <td>3</td>\n",
              "      <td>144</td>\n",
              "      <td>Chico Reservado</td>\n",
              "      <td>CHAPINERO: Chicó Lago + El Refugio</td>\n",
              "      <td>$ 1.120.000.000</td>\n",
              "    </tr>\n",
              "    <tr>\n",
              "      <th>3</th>\n",
              "      <td>Apartamento</td>\n",
              "      <td>Apartamento en venta en Usaquén</td>\n",
              "      <td>3</td>\n",
              "      <td>2</td>\n",
              "      <td>154</td>\n",
              "      <td>Usaquén</td>\n",
              "      <td>Usaquén</td>\n",
              "      <td>$ 890.000.000</td>\n",
              "    </tr>\n",
              "    <tr>\n",
              "      <th>4</th>\n",
              "      <td>Apartamento</td>\n",
              "      <td>Apartamento en venta en Bella Suiza</td>\n",
              "      <td>2</td>\n",
              "      <td>3</td>\n",
              "      <td>128</td>\n",
              "      <td>Bella Suiza</td>\n",
              "      <td>USAQUÉN: Country Club + Santa Bárbara</td>\n",
              "      <td>$ 970.000.000</td>\n",
              "    </tr>\n",
              "  </tbody>\n",
              "</table>\n",
              "</div>\n",
              "      <button class=\"colab-df-convert\" onclick=\"convertToInteractive('df-6fc3d82c-7a89-4ee8-a120-d2e21933ff80')\"\n",
              "              title=\"Convert this dataframe to an interactive table.\"\n",
              "              style=\"display:none;\">\n",
              "        \n",
              "  <svg xmlns=\"http://www.w3.org/2000/svg\" height=\"24px\"viewBox=\"0 0 24 24\"\n",
              "       width=\"24px\">\n",
              "    <path d=\"M0 0h24v24H0V0z\" fill=\"none\"/>\n",
              "    <path d=\"M18.56 5.44l.94 2.06.94-2.06 2.06-.94-2.06-.94-.94-2.06-.94 2.06-2.06.94zm-11 1L8.5 8.5l.94-2.06 2.06-.94-2.06-.94L8.5 2.5l-.94 2.06-2.06.94zm10 10l.94 2.06.94-2.06 2.06-.94-2.06-.94-.94-2.06-.94 2.06-2.06.94z\"/><path d=\"M17.41 7.96l-1.37-1.37c-.4-.4-.92-.59-1.43-.59-.52 0-1.04.2-1.43.59L10.3 9.45l-7.72 7.72c-.78.78-.78 2.05 0 2.83L4 21.41c.39.39.9.59 1.41.59.51 0 1.02-.2 1.41-.59l7.78-7.78 2.81-2.81c.8-.78.8-2.07 0-2.86zM5.41 20L4 18.59l7.72-7.72 1.47 1.35L5.41 20z\"/>\n",
              "  </svg>\n",
              "      </button>\n",
              "      \n",
              "  <style>\n",
              "    .colab-df-container {\n",
              "      display:flex;\n",
              "      flex-wrap:wrap;\n",
              "      gap: 12px;\n",
              "    }\n",
              "\n",
              "    .colab-df-convert {\n",
              "      background-color: #E8F0FE;\n",
              "      border: none;\n",
              "      border-radius: 50%;\n",
              "      cursor: pointer;\n",
              "      display: none;\n",
              "      fill: #1967D2;\n",
              "      height: 32px;\n",
              "      padding: 0 0 0 0;\n",
              "      width: 32px;\n",
              "    }\n",
              "\n",
              "    .colab-df-convert:hover {\n",
              "      background-color: #E2EBFA;\n",
              "      box-shadow: 0px 1px 2px rgba(60, 64, 67, 0.3), 0px 1px 3px 1px rgba(60, 64, 67, 0.15);\n",
              "      fill: #174EA6;\n",
              "    }\n",
              "\n",
              "    [theme=dark] .colab-df-convert {\n",
              "      background-color: #3B4455;\n",
              "      fill: #D2E3FC;\n",
              "    }\n",
              "\n",
              "    [theme=dark] .colab-df-convert:hover {\n",
              "      background-color: #434B5C;\n",
              "      box-shadow: 0px 1px 3px 1px rgba(0, 0, 0, 0.15);\n",
              "      filter: drop-shadow(0px 1px 2px rgba(0, 0, 0, 0.3));\n",
              "      fill: #FFFFFF;\n",
              "    }\n",
              "  </style>\n",
              "\n",
              "      <script>\n",
              "        const buttonEl =\n",
              "          document.querySelector('#df-6fc3d82c-7a89-4ee8-a120-d2e21933ff80 button.colab-df-convert');\n",
              "        buttonEl.style.display =\n",
              "          google.colab.kernel.accessAllowed ? 'block' : 'none';\n",
              "\n",
              "        async function convertToInteractive(key) {\n",
              "          const element = document.querySelector('#df-6fc3d82c-7a89-4ee8-a120-d2e21933ff80');\n",
              "          const dataTable =\n",
              "            await google.colab.kernel.invokeFunction('convertToInteractive',\n",
              "                                                     [key], {});\n",
              "          if (!dataTable) return;\n",
              "\n",
              "          const docLinkHtml = 'Like what you see? Visit the ' +\n",
              "            '<a target=\"_blank\" href=https://colab.research.google.com/notebooks/data_table.ipynb>data table notebook</a>'\n",
              "            + ' to learn more about interactive tables.';\n",
              "          element.innerHTML = '';\n",
              "          dataTable['output_type'] = 'display_data';\n",
              "          await google.colab.output.renderOutput(dataTable, element);\n",
              "          const docLink = document.createElement('div');\n",
              "          docLink.innerHTML = docLinkHtml;\n",
              "          element.appendChild(docLink);\n",
              "        }\n",
              "      </script>\n",
              "    </div>\n",
              "  </div>\n",
              "  "
            ]
          },
          "metadata": {},
          "execution_count": 57
        }
      ]
    },
    {
      "cell_type": "markdown",
      "source": [
        "3- Para ver la estructura de nuestro dataset se utiliza el atributo **shape**\n",
        "el primer numero antes de la coma, representa las filas, mientras que el segundo numero, indica las columnas(exceptuando el indice)."
      ],
      "metadata": {
        "id": "T84sWWyQRkKp"
      }
    },
    {
      "cell_type": "code",
      "source": [
        "inmuebles.shape"
      ],
      "metadata": {
        "colab": {
          "base_uri": "https://localhost:8080/"
        },
        "id": "PqC5SielOj9M",
        "outputId": "0c4c834f-3470-48ff-bbfe-7db9fa68e1e4"
      },
      "execution_count": null,
      "outputs": [
        {
          "output_type": "execute_result",
          "data": {
            "text/plain": [
              "(9520, 8)"
            ]
          },
          "metadata": {},
          "execution_count": 3
        }
      ]
    },
    {
      "cell_type": "markdown",
      "source": [
        "4- Para ver la informacion de las columnas se utiliza el artributo **columns**"
      ],
      "metadata": {
        "id": "sDcwUrvKTS5Z"
      }
    },
    {
      "cell_type": "code",
      "source": [
        "inmuebles.columns"
      ],
      "metadata": {
        "colab": {
          "base_uri": "https://localhost:8080/"
        },
        "id": "Z43RO3ldTGra",
        "outputId": "56db308f-fe9a-4e87-838c-16b951248e15"
      },
      "execution_count": 3,
      "outputs": [
        {
          "output_type": "execute_result",
          "data": {
            "text/plain": [
              "Index(['Tipo', 'Descripcion', 'Habitaciones', 'Baños', 'Área', 'Barrio', 'UPZ',\n",
              "       'Valor'],\n",
              "      dtype='object')"
            ]
          },
          "metadata": {},
          "execution_count": 3
        }
      ]
    },
    {
      "cell_type": "markdown",
      "source": [
        "4 - creamos un diccionario llave-valor en python, para poder renombrar las columas. \n",
        "y a la variable que habiamos creado  (inmuebes)se le pasa el atrubuto **rename** y asi asignar estos nuevos nombres "
      ],
      "metadata": {
        "id": "wdcTrtktT7V3"
      }
    },
    {
      "cell_type": "code",
      "source": [
        "columnas = {'Baños':'Banos','Área':'Area'}\n",
        "inmuebles = inmuebles.rename(columns=columnas)\n",
        "inmuebles.sample(10)"
      ],
      "metadata": {
        "colab": {
          "base_uri": "https://localhost:8080/",
          "height": 581
        },
        "id": "e2V3E9f7T1t9",
        "outputId": "44c06bfc-5e44-47c4-c49e-ebdcbfec9e64"
      },
      "execution_count": 61,
      "outputs": [
        {
          "output_type": "execute_result",
          "data": {
            "text/plain": [
              "             Tipo                              Descripcion  Habitaciones  \\\n",
              "9340  Apartamento        Apartamento en venta en Chapinero             2   \n",
              "4788  Apartamento          Apartamento en venta en Usaquén             3   \n",
              "1215  Apartamento    Apartamento en venta en Puente Aranda             2   \n",
              "5920  Apartamento    Apartamento en venta en Santa Barbara             2   \n",
              "6936  Apartamento          Apartamento en venta en Usaquén             3   \n",
              "7857  Apartamento             Apartamento en venta en Suba            10   \n",
              "2916  Apartamento      Apartamento en venta en Los Rosales             3   \n",
              "1021         Casa      Casa en venta en Zona Noroccidental             4   \n",
              "6295  Apartamento  Apartamento en venta en Chico Reservado             3   \n",
              "8827         Casa                Casa en venta en Fontibón             3   \n",
              "\n",
              "      Banos  Area              Barrio  \\\n",
              "9340      2    94           Chapinero   \n",
              "4788      2   125             Usaquén   \n",
              "1215      2    43       Puente Aranda   \n",
              "5920      2   101       Santa Barbara   \n",
              "6936      2   110             Usaquén   \n",
              "7857      8   470                Suba   \n",
              "2916      3   125         Los Rosales   \n",
              "1021      5   435  Zona Noroccidental   \n",
              "6295      4   130     Chico Reservado   \n",
              "8827      1    55            Fontibón   \n",
              "\n",
              "                                                 UPZ            Valor  \n",
              "9340              CHAPINERO: Pardo Rubio + Chapinero    $ 693.000.000  \n",
              "4788                                         Usaquén    $ 875.000.000  \n",
              "1215  PUENTE ARANDA: Zona Industrial + Puente Aranda    $ 247.000.000  \n",
              "5920           USAQUÉN: Country Club + Santa Bárbara    $ 530.000.000  \n",
              "6936                                         Usaquén    $ 530.000.000  \n",
              "7857                                            Suba  $ 1.850.000.000  \n",
              "2916              CHAPINERO: Chicó Lago + El Refugio    $ 880.000.000  \n",
              "1021              CHAPINERO: Pardo Rubio + Chapinero  $ 1.250.000.000  \n",
              "6295              CHAPINERO: Chicó Lago + El Refugio    $ 700.000.000  \n",
              "8827                                        Fontibón    $ 166.000.000  "
            ],
            "text/html": [
              "\n",
              "  <div id=\"df-d08be805-dfec-45f3-8635-36db470a48e3\">\n",
              "    <div class=\"colab-df-container\">\n",
              "      <div>\n",
              "<style scoped>\n",
              "    .dataframe tbody tr th:only-of-type {\n",
              "        vertical-align: middle;\n",
              "    }\n",
              "\n",
              "    .dataframe tbody tr th {\n",
              "        vertical-align: top;\n",
              "    }\n",
              "\n",
              "    .dataframe thead th {\n",
              "        text-align: right;\n",
              "    }\n",
              "</style>\n",
              "<table border=\"1\" class=\"dataframe\">\n",
              "  <thead>\n",
              "    <tr style=\"text-align: right;\">\n",
              "      <th></th>\n",
              "      <th>Tipo</th>\n",
              "      <th>Descripcion</th>\n",
              "      <th>Habitaciones</th>\n",
              "      <th>Banos</th>\n",
              "      <th>Area</th>\n",
              "      <th>Barrio</th>\n",
              "      <th>UPZ</th>\n",
              "      <th>Valor</th>\n",
              "    </tr>\n",
              "  </thead>\n",
              "  <tbody>\n",
              "    <tr>\n",
              "      <th>9340</th>\n",
              "      <td>Apartamento</td>\n",
              "      <td>Apartamento en venta en Chapinero</td>\n",
              "      <td>2</td>\n",
              "      <td>2</td>\n",
              "      <td>94</td>\n",
              "      <td>Chapinero</td>\n",
              "      <td>CHAPINERO: Pardo Rubio + Chapinero</td>\n",
              "      <td>$ 693.000.000</td>\n",
              "    </tr>\n",
              "    <tr>\n",
              "      <th>4788</th>\n",
              "      <td>Apartamento</td>\n",
              "      <td>Apartamento en venta en Usaquén</td>\n",
              "      <td>3</td>\n",
              "      <td>2</td>\n",
              "      <td>125</td>\n",
              "      <td>Usaquén</td>\n",
              "      <td>Usaquén</td>\n",
              "      <td>$ 875.000.000</td>\n",
              "    </tr>\n",
              "    <tr>\n",
              "      <th>1215</th>\n",
              "      <td>Apartamento</td>\n",
              "      <td>Apartamento en venta en Puente Aranda</td>\n",
              "      <td>2</td>\n",
              "      <td>2</td>\n",
              "      <td>43</td>\n",
              "      <td>Puente Aranda</td>\n",
              "      <td>PUENTE ARANDA: Zona Industrial + Puente Aranda</td>\n",
              "      <td>$ 247.000.000</td>\n",
              "    </tr>\n",
              "    <tr>\n",
              "      <th>5920</th>\n",
              "      <td>Apartamento</td>\n",
              "      <td>Apartamento en venta en Santa Barbara</td>\n",
              "      <td>2</td>\n",
              "      <td>2</td>\n",
              "      <td>101</td>\n",
              "      <td>Santa Barbara</td>\n",
              "      <td>USAQUÉN: Country Club + Santa Bárbara</td>\n",
              "      <td>$ 530.000.000</td>\n",
              "    </tr>\n",
              "    <tr>\n",
              "      <th>6936</th>\n",
              "      <td>Apartamento</td>\n",
              "      <td>Apartamento en venta en Usaquén</td>\n",
              "      <td>3</td>\n",
              "      <td>2</td>\n",
              "      <td>110</td>\n",
              "      <td>Usaquén</td>\n",
              "      <td>Usaquén</td>\n",
              "      <td>$ 530.000.000</td>\n",
              "    </tr>\n",
              "    <tr>\n",
              "      <th>7857</th>\n",
              "      <td>Apartamento</td>\n",
              "      <td>Apartamento en venta en Suba</td>\n",
              "      <td>10</td>\n",
              "      <td>8</td>\n",
              "      <td>470</td>\n",
              "      <td>Suba</td>\n",
              "      <td>Suba</td>\n",
              "      <td>$ 1.850.000.000</td>\n",
              "    </tr>\n",
              "    <tr>\n",
              "      <th>2916</th>\n",
              "      <td>Apartamento</td>\n",
              "      <td>Apartamento en venta en Los Rosales</td>\n",
              "      <td>3</td>\n",
              "      <td>3</td>\n",
              "      <td>125</td>\n",
              "      <td>Los Rosales</td>\n",
              "      <td>CHAPINERO: Chicó Lago + El Refugio</td>\n",
              "      <td>$ 880.000.000</td>\n",
              "    </tr>\n",
              "    <tr>\n",
              "      <th>1021</th>\n",
              "      <td>Casa</td>\n",
              "      <td>Casa en venta en Zona Noroccidental</td>\n",
              "      <td>4</td>\n",
              "      <td>5</td>\n",
              "      <td>435</td>\n",
              "      <td>Zona Noroccidental</td>\n",
              "      <td>CHAPINERO: Pardo Rubio + Chapinero</td>\n",
              "      <td>$ 1.250.000.000</td>\n",
              "    </tr>\n",
              "    <tr>\n",
              "      <th>6295</th>\n",
              "      <td>Apartamento</td>\n",
              "      <td>Apartamento en venta en Chico Reservado</td>\n",
              "      <td>3</td>\n",
              "      <td>4</td>\n",
              "      <td>130</td>\n",
              "      <td>Chico Reservado</td>\n",
              "      <td>CHAPINERO: Chicó Lago + El Refugio</td>\n",
              "      <td>$ 700.000.000</td>\n",
              "    </tr>\n",
              "    <tr>\n",
              "      <th>8827</th>\n",
              "      <td>Casa</td>\n",
              "      <td>Casa en venta en Fontibón</td>\n",
              "      <td>3</td>\n",
              "      <td>1</td>\n",
              "      <td>55</td>\n",
              "      <td>Fontibón</td>\n",
              "      <td>Fontibón</td>\n",
              "      <td>$ 166.000.000</td>\n",
              "    </tr>\n",
              "  </tbody>\n",
              "</table>\n",
              "</div>\n",
              "      <button class=\"colab-df-convert\" onclick=\"convertToInteractive('df-d08be805-dfec-45f3-8635-36db470a48e3')\"\n",
              "              title=\"Convert this dataframe to an interactive table.\"\n",
              "              style=\"display:none;\">\n",
              "        \n",
              "  <svg xmlns=\"http://www.w3.org/2000/svg\" height=\"24px\"viewBox=\"0 0 24 24\"\n",
              "       width=\"24px\">\n",
              "    <path d=\"M0 0h24v24H0V0z\" fill=\"none\"/>\n",
              "    <path d=\"M18.56 5.44l.94 2.06.94-2.06 2.06-.94-2.06-.94-.94-2.06-.94 2.06-2.06.94zm-11 1L8.5 8.5l.94-2.06 2.06-.94-2.06-.94L8.5 2.5l-.94 2.06-2.06.94zm10 10l.94 2.06.94-2.06 2.06-.94-2.06-.94-.94-2.06-.94 2.06-2.06.94z\"/><path d=\"M17.41 7.96l-1.37-1.37c-.4-.4-.92-.59-1.43-.59-.52 0-1.04.2-1.43.59L10.3 9.45l-7.72 7.72c-.78.78-.78 2.05 0 2.83L4 21.41c.39.39.9.59 1.41.59.51 0 1.02-.2 1.41-.59l7.78-7.78 2.81-2.81c.8-.78.8-2.07 0-2.86zM5.41 20L4 18.59l7.72-7.72 1.47 1.35L5.41 20z\"/>\n",
              "  </svg>\n",
              "      </button>\n",
              "      \n",
              "  <style>\n",
              "    .colab-df-container {\n",
              "      display:flex;\n",
              "      flex-wrap:wrap;\n",
              "      gap: 12px;\n",
              "    }\n",
              "\n",
              "    .colab-df-convert {\n",
              "      background-color: #E8F0FE;\n",
              "      border: none;\n",
              "      border-radius: 50%;\n",
              "      cursor: pointer;\n",
              "      display: none;\n",
              "      fill: #1967D2;\n",
              "      height: 32px;\n",
              "      padding: 0 0 0 0;\n",
              "      width: 32px;\n",
              "    }\n",
              "\n",
              "    .colab-df-convert:hover {\n",
              "      background-color: #E2EBFA;\n",
              "      box-shadow: 0px 1px 2px rgba(60, 64, 67, 0.3), 0px 1px 3px 1px rgba(60, 64, 67, 0.15);\n",
              "      fill: #174EA6;\n",
              "    }\n",
              "\n",
              "    [theme=dark] .colab-df-convert {\n",
              "      background-color: #3B4455;\n",
              "      fill: #D2E3FC;\n",
              "    }\n",
              "\n",
              "    [theme=dark] .colab-df-convert:hover {\n",
              "      background-color: #434B5C;\n",
              "      box-shadow: 0px 1px 3px 1px rgba(0, 0, 0, 0.15);\n",
              "      filter: drop-shadow(0px 1px 2px rgba(0, 0, 0, 0.3));\n",
              "      fill: #FFFFFF;\n",
              "    }\n",
              "  </style>\n",
              "\n",
              "      <script>\n",
              "        const buttonEl =\n",
              "          document.querySelector('#df-d08be805-dfec-45f3-8635-36db470a48e3 button.colab-df-convert');\n",
              "        buttonEl.style.display =\n",
              "          google.colab.kernel.accessAllowed ? 'block' : 'none';\n",
              "\n",
              "        async function convertToInteractive(key) {\n",
              "          const element = document.querySelector('#df-d08be805-dfec-45f3-8635-36db470a48e3');\n",
              "          const dataTable =\n",
              "            await google.colab.kernel.invokeFunction('convertToInteractive',\n",
              "                                                     [key], {});\n",
              "          if (!dataTable) return;\n",
              "\n",
              "          const docLinkHtml = 'Like what you see? Visit the ' +\n",
              "            '<a target=\"_blank\" href=https://colab.research.google.com/notebooks/data_table.ipynb>data table notebook</a>'\n",
              "            + ' to learn more about interactive tables.';\n",
              "          element.innerHTML = '';\n",
              "          dataTable['output_type'] = 'display_data';\n",
              "          await google.colab.output.renderOutput(dataTable, element);\n",
              "          const docLink = document.createElement('div');\n",
              "          docLink.innerHTML = docLinkHtml;\n",
              "          element.appendChild(docLink);\n",
              "        }\n",
              "      </script>\n",
              "    </div>\n",
              "  </div>\n",
              "  "
            ]
          },
          "metadata": {},
          "execution_count": 61
        }
      ]
    },
    {
      "cell_type": "markdown",
      "source": [
        "5- Para poder entener el contenido de el datasets con el que vamos a trabajar se puede utilizar la funcion **info**"
      ],
      "metadata": {
        "id": "64h5c-8kWnDQ"
      }
    },
    {
      "cell_type": "code",
      "source": [
        "inmuebles.info()"
      ],
      "metadata": {
        "colab": {
          "base_uri": "https://localhost:8080/"
        },
        "id": "RZJlf2oTWjQ4",
        "outputId": "fc350008-bf4d-4e66-91c5-8c9f169f9c4d"
      },
      "execution_count": 5,
      "outputs": [
        {
          "output_type": "stream",
          "name": "stdout",
          "text": [
            "<class 'pandas.core.frame.DataFrame'>\n",
            "RangeIndex: 9520 entries, 0 to 9519\n",
            "Data columns (total 8 columns):\n",
            " #   Column        Non-Null Count  Dtype \n",
            "---  ------        --------------  ----- \n",
            " 0   Tipo          9520 non-null   object\n",
            " 1   Descripcion   9520 non-null   object\n",
            " 2   Habitaciones  9520 non-null   int64 \n",
            " 3   Banos         9520 non-null   int64 \n",
            " 4   Area          9520 non-null   int64 \n",
            " 5   Barrio        9520 non-null   object\n",
            " 6   UPZ           9478 non-null   object\n",
            " 7   Valor         9520 non-null   object\n",
            "dtypes: int64(3), object(5)\n",
            "memory usage: 595.1+ KB\n"
          ]
        }
      ]
    },
    {
      "cell_type": "markdown",
      "source": [
        "6- Utilizamos el recurso **iloc** para localizar el indice que le pasamos entre [] y nos devuelve la informacion contenida en ese indice."
      ],
      "metadata": {
        "id": "yf0gfMdoYk1J"
      }
    },
    {
      "cell_type": "code",
      "source": [
        "inmuebles.iloc[300]\n"
      ],
      "metadata": {
        "colab": {
          "base_uri": "https://localhost:8080/"
        },
        "id": "pwi3cFxnY1eZ",
        "outputId": "d92afaae-5710-40e5-c96e-6e52d2188e19"
      },
      "execution_count": 6,
      "outputs": [
        {
          "output_type": "execute_result",
          "data": {
            "text/plain": [
              "Tipo                                Apartamento\n",
              "Descripcion     Apartamento en venta en Kennedy\n",
              "Habitaciones                                  2\n",
              "Banos                                         1\n",
              "Area                                         42\n",
              "Barrio                                  Kennedy\n",
              "UPZ                             Kennedy Central\n",
              "Valor                             $ 116.100.000\n",
              "Name: 300, dtype: object"
            ]
          },
          "metadata": {},
          "execution_count": 6
        }
      ]
    },
    {
      "cell_type": "markdown",
      "source": [
        "7- Para usar una porcion de los datos se llama al recurso slice notation que crea una nueva lista de datos a partir de la lista principal con el rango q le asignamos entre [primerIndice : UltimoIndice (NOincluido)]"
      ],
      "metadata": {
        "id": "GAa5IsGUZmi1"
      }
    },
    {
      "cell_type": "code",
      "source": [
        "inmuebles.iloc[300:305]"
      ],
      "metadata": {
        "colab": {
          "base_uri": "https://localhost:8080/",
          "height": 337
        },
        "id": "uEdG5LW8ZjB8",
        "outputId": "41307b9f-f2c1-4063-fb59-bb412d2f5b63"
      },
      "execution_count": 7,
      "outputs": [
        {
          "output_type": "execute_result",
          "data": {
            "text/plain": [
              "            Tipo                          Descripcion  Habitaciones  Banos  \\\n",
              "300  Apartamento      Apartamento en venta en Kennedy             2      1   \n",
              "301  Apartamento  Apartamento en venta en Chico Norte             2      2   \n",
              "302  Apartamento      Apartamento en venta en Kennedy             3      2   \n",
              "303  Apartamento      Apartamento en venta en Kennedy             3      2   \n",
              "304  Apartamento     Apartamento en venta en Cedritos             4      4   \n",
              "\n",
              "     Area       Barrio                                 UPZ          Valor  \n",
              "300    42      Kennedy                     Kennedy Central  $ 116.100.000  \n",
              "301    95  Chico Norte  CHAPINERO: Chicó Lago + El Refugio  $ 980.000.000  \n",
              "302    54      Kennedy                     Kennedy Central  $ 237.000.000  \n",
              "303    67      Kennedy                     Kennedy Central  $ 320.000.000  \n",
              "304   132     Cedritos                             Usaquén  $ 530.000.000  "
            ],
            "text/html": [
              "\n",
              "  <div id=\"df-5b940b73-4474-43b8-b41c-4a8e69c131ba\">\n",
              "    <div class=\"colab-df-container\">\n",
              "      <div>\n",
              "<style scoped>\n",
              "    .dataframe tbody tr th:only-of-type {\n",
              "        vertical-align: middle;\n",
              "    }\n",
              "\n",
              "    .dataframe tbody tr th {\n",
              "        vertical-align: top;\n",
              "    }\n",
              "\n",
              "    .dataframe thead th {\n",
              "        text-align: right;\n",
              "    }\n",
              "</style>\n",
              "<table border=\"1\" class=\"dataframe\">\n",
              "  <thead>\n",
              "    <tr style=\"text-align: right;\">\n",
              "      <th></th>\n",
              "      <th>Tipo</th>\n",
              "      <th>Descripcion</th>\n",
              "      <th>Habitaciones</th>\n",
              "      <th>Banos</th>\n",
              "      <th>Area</th>\n",
              "      <th>Barrio</th>\n",
              "      <th>UPZ</th>\n",
              "      <th>Valor</th>\n",
              "    </tr>\n",
              "  </thead>\n",
              "  <tbody>\n",
              "    <tr>\n",
              "      <th>300</th>\n",
              "      <td>Apartamento</td>\n",
              "      <td>Apartamento en venta en Kennedy</td>\n",
              "      <td>2</td>\n",
              "      <td>1</td>\n",
              "      <td>42</td>\n",
              "      <td>Kennedy</td>\n",
              "      <td>Kennedy Central</td>\n",
              "      <td>$ 116.100.000</td>\n",
              "    </tr>\n",
              "    <tr>\n",
              "      <th>301</th>\n",
              "      <td>Apartamento</td>\n",
              "      <td>Apartamento en venta en Chico Norte</td>\n",
              "      <td>2</td>\n",
              "      <td>2</td>\n",
              "      <td>95</td>\n",
              "      <td>Chico Norte</td>\n",
              "      <td>CHAPINERO: Chicó Lago + El Refugio</td>\n",
              "      <td>$ 980.000.000</td>\n",
              "    </tr>\n",
              "    <tr>\n",
              "      <th>302</th>\n",
              "      <td>Apartamento</td>\n",
              "      <td>Apartamento en venta en Kennedy</td>\n",
              "      <td>3</td>\n",
              "      <td>2</td>\n",
              "      <td>54</td>\n",
              "      <td>Kennedy</td>\n",
              "      <td>Kennedy Central</td>\n",
              "      <td>$ 237.000.000</td>\n",
              "    </tr>\n",
              "    <tr>\n",
              "      <th>303</th>\n",
              "      <td>Apartamento</td>\n",
              "      <td>Apartamento en venta en Kennedy</td>\n",
              "      <td>3</td>\n",
              "      <td>2</td>\n",
              "      <td>67</td>\n",
              "      <td>Kennedy</td>\n",
              "      <td>Kennedy Central</td>\n",
              "      <td>$ 320.000.000</td>\n",
              "    </tr>\n",
              "    <tr>\n",
              "      <th>304</th>\n",
              "      <td>Apartamento</td>\n",
              "      <td>Apartamento en venta en Cedritos</td>\n",
              "      <td>4</td>\n",
              "      <td>4</td>\n",
              "      <td>132</td>\n",
              "      <td>Cedritos</td>\n",
              "      <td>Usaquén</td>\n",
              "      <td>$ 530.000.000</td>\n",
              "    </tr>\n",
              "  </tbody>\n",
              "</table>\n",
              "</div>\n",
              "      <button class=\"colab-df-convert\" onclick=\"convertToInteractive('df-5b940b73-4474-43b8-b41c-4a8e69c131ba')\"\n",
              "              title=\"Convert this dataframe to an interactive table.\"\n",
              "              style=\"display:none;\">\n",
              "        \n",
              "  <svg xmlns=\"http://www.w3.org/2000/svg\" height=\"24px\"viewBox=\"0 0 24 24\"\n",
              "       width=\"24px\">\n",
              "    <path d=\"M0 0h24v24H0V0z\" fill=\"none\"/>\n",
              "    <path d=\"M18.56 5.44l.94 2.06.94-2.06 2.06-.94-2.06-.94-.94-2.06-.94 2.06-2.06.94zm-11 1L8.5 8.5l.94-2.06 2.06-.94-2.06-.94L8.5 2.5l-.94 2.06-2.06.94zm10 10l.94 2.06.94-2.06 2.06-.94-2.06-.94-.94-2.06-.94 2.06-2.06.94z\"/><path d=\"M17.41 7.96l-1.37-1.37c-.4-.4-.92-.59-1.43-.59-.52 0-1.04.2-1.43.59L10.3 9.45l-7.72 7.72c-.78.78-.78 2.05 0 2.83L4 21.41c.39.39.9.59 1.41.59.51 0 1.02-.2 1.41-.59l7.78-7.78 2.81-2.81c.8-.78.8-2.07 0-2.86zM5.41 20L4 18.59l7.72-7.72 1.47 1.35L5.41 20z\"/>\n",
              "  </svg>\n",
              "      </button>\n",
              "      \n",
              "  <style>\n",
              "    .colab-df-container {\n",
              "      display:flex;\n",
              "      flex-wrap:wrap;\n",
              "      gap: 12px;\n",
              "    }\n",
              "\n",
              "    .colab-df-convert {\n",
              "      background-color: #E8F0FE;\n",
              "      border: none;\n",
              "      border-radius: 50%;\n",
              "      cursor: pointer;\n",
              "      display: none;\n",
              "      fill: #1967D2;\n",
              "      height: 32px;\n",
              "      padding: 0 0 0 0;\n",
              "      width: 32px;\n",
              "    }\n",
              "\n",
              "    .colab-df-convert:hover {\n",
              "      background-color: #E2EBFA;\n",
              "      box-shadow: 0px 1px 2px rgba(60, 64, 67, 0.3), 0px 1px 3px 1px rgba(60, 64, 67, 0.15);\n",
              "      fill: #174EA6;\n",
              "    }\n",
              "\n",
              "    [theme=dark] .colab-df-convert {\n",
              "      background-color: #3B4455;\n",
              "      fill: #D2E3FC;\n",
              "    }\n",
              "\n",
              "    [theme=dark] .colab-df-convert:hover {\n",
              "      background-color: #434B5C;\n",
              "      box-shadow: 0px 1px 3px 1px rgba(0, 0, 0, 0.15);\n",
              "      filter: drop-shadow(0px 1px 2px rgba(0, 0, 0, 0.3));\n",
              "      fill: #FFFFFF;\n",
              "    }\n",
              "  </style>\n",
              "\n",
              "      <script>\n",
              "        const buttonEl =\n",
              "          document.querySelector('#df-5b940b73-4474-43b8-b41c-4a8e69c131ba button.colab-df-convert');\n",
              "        buttonEl.style.display =\n",
              "          google.colab.kernel.accessAllowed ? 'block' : 'none';\n",
              "\n",
              "        async function convertToInteractive(key) {\n",
              "          const element = document.querySelector('#df-5b940b73-4474-43b8-b41c-4a8e69c131ba');\n",
              "          const dataTable =\n",
              "            await google.colab.kernel.invokeFunction('convertToInteractive',\n",
              "                                                     [key], {});\n",
              "          if (!dataTable) return;\n",
              "\n",
              "          const docLinkHtml = 'Like what you see? Visit the ' +\n",
              "            '<a target=\"_blank\" href=https://colab.research.google.com/notebooks/data_table.ipynb>data table notebook</a>'\n",
              "            + ' to learn more about interactive tables.';\n",
              "          element.innerHTML = '';\n",
              "          dataTable['output_type'] = 'display_data';\n",
              "          await google.colab.output.renderOutput(dataTable, element);\n",
              "          const docLink = document.createElement('div');\n",
              "          docLink.innerHTML = docLinkHtml;\n",
              "          element.appendChild(docLink);\n",
              "        }\n",
              "      </script>\n",
              "    </div>\n",
              "  </div>\n",
              "  "
            ]
          },
          "metadata": {},
          "execution_count": 7
        }
      ]
    },
    {
      "cell_type": "markdown",
      "source": [
        "8- Tambien se pueden seleccionar los valores de una fila en especifico \n",
        "ej 1: se quiere saber el monto  del inmueble en el indice 300.\n",
        "ej 2:se quiere saber el monto  de los inmuebles en  el rango 300-305."
      ],
      "metadata": {
        "id": "AALlQDTKbRGQ"
      }
    },
    {
      "cell_type": "code",
      "source": [
        "inmuebles['Valor'][300]"
      ],
      "metadata": {
        "colab": {
          "base_uri": "https://localhost:8080/",
          "height": 35
        },
        "id": "QRjeqNehbGpt",
        "outputId": "92c4ac09-b8d7-4bcd-cc16-b1491a13fbf8"
      },
      "execution_count": 8,
      "outputs": [
        {
          "output_type": "execute_result",
          "data": {
            "text/plain": [
              "'$ 116.100.000'"
            ],
            "application/vnd.google.colaboratory.intrinsic+json": {
              "type": "string"
            }
          },
          "metadata": {},
          "execution_count": 8
        }
      ]
    },
    {
      "cell_type": "code",
      "source": [
        "type(inmuebles['Valor'][300:305])"
      ],
      "metadata": {
        "colab": {
          "base_uri": "https://localhost:8080/"
        },
        "id": "rMaujw7BcSvy",
        "outputId": "ee8eae7e-929c-45aa-e748-c9d10b7ce3dd"
      },
      "execution_count": 9,
      "outputs": [
        {
          "output_type": "execute_result",
          "data": {
            "text/plain": [
              "pandas.core.series.Series"
            ]
          },
          "metadata": {},
          "execution_count": 9
        }
      ]
    },
    {
      "cell_type": "code",
      "source": [
        "inmuebles.columns\n",
        "     "
      ],
      "metadata": {
        "colab": {
          "base_uri": "https://localhost:8080/"
        },
        "id": "twQ10egoc-bY",
        "outputId": "a9ebbdae-c6ab-4fb0-cb5c-27e04546f231"
      },
      "execution_count": 78,
      "outputs": [
        {
          "output_type": "execute_result",
          "data": {
            "text/plain": [
              "Index(['Tipo', 'Descripcion', 'Habitaciones', 'Baños', 'Área', 'Barrio', 'UPZ',\n",
              "       'Valor'],\n",
              "      dtype='object')"
            ]
          },
          "metadata": {},
          "execution_count": 78
        }
      ]
    },
    {
      "cell_type": "markdown",
      "source": [
        "9- Para hacer una introduccion a la manipulacion de esta herramienta vamos a calcular **la media** de las areas de los inmuebles presentes en este datasets, usando la funcion **mean**"
      ],
      "metadata": {
        "id": "oQ8jry3VdDaS"
      }
    },
    {
      "cell_type": "code",
      "source": [
        "inmuebles.Area.mean()"
      ],
      "metadata": {
        "colab": {
          "base_uri": "https://localhost:8080/"
        },
        "id": "lcQK0TRRdBzS",
        "outputId": "83fce5a1-ebcc-42b5-bff0-026fcac76bed"
      },
      "execution_count": null,
      "outputs": [
        {
          "output_type": "execute_result",
          "data": {
            "text/plain": [
              "146.66470588235293"
            ]
          },
          "metadata": {},
          "execution_count": 27
        }
      ]
    },
    {
      "cell_type": "markdown",
      "source": [
        "10- Se escoge una muestra de 100 datos para trabajar."
      ],
      "metadata": {
        "id": "i1B0z73qfYY5"
      }
    },
    {
      "cell_type": "code",
      "source": [
        "inmuebles.sample(100)\n",
        "     \n"
      ],
      "metadata": {
        "colab": {
          "base_uri": "https://localhost:8080/",
          "height": 624
        },
        "id": "kWghrHRXfH9n",
        "outputId": "3ea6535f-7d1a-404a-ee3c-2326c9a3aed5"
      },
      "execution_count": 10,
      "outputs": [
        {
          "output_type": "execute_result",
          "data": {
            "text/plain": [
              "             Tipo                           Descripcion  Habitaciones  Banos  \\\n",
              "1737         Casa                 Casa en venta en Suba             5      4   \n",
              "5119  Apartamento      Apartamento en venta en Cedritos             3      2   \n",
              "5443  Apartamento          Apartamento en venta en Bosa             3      2   \n",
              "6961  Apartamento  Apartamento en venta en Los Mártires             3      2   \n",
              "2372         Casa        Casa en venta en Santa Barbara             3      4   \n",
              "...           ...                                   ...           ...    ...   \n",
              "9480        Local        Local en venta en Las Delicias             9      7   \n",
              "5243  Apartamento     Apartamento en venta en Chapinero             4      6   \n",
              "5831         Casa             Casa en venta en Engativa             4      2   \n",
              "9195  Apartamento    Apartamento en venta en Las Nieves             1      1   \n",
              "4803         Casa            Casa en venta en Chapinero             6      3   \n",
              "\n",
              "      Area         Barrio                                     UPZ  \\\n",
              "1737   220           Suba                                    Suba   \n",
              "5119    78       Cedritos                                 Usaquén   \n",
              "5443    57           Bosa                            Bosa Central   \n",
              "6961    85   Los Mártires                               La Sabana   \n",
              "2372   200  Santa Barbara   USAQUÉN: Country Club + Santa Bárbara   \n",
              "...    ...            ...                                     ...   \n",
              "9480   495   Las Delicias                                 Usaquén   \n",
              "5243   396      Chapinero      CHAPINERO: Pardo Rubio + Chapinero   \n",
              "5831    72       Engativa                                Engativá   \n",
              "9195    26     Las Nieves  SANTA FE: Las Nieves + Sagrado Corazón   \n",
              "4803  1300      Chapinero      CHAPINERO: Pardo Rubio + Chapinero   \n",
              "\n",
              "                Valor  \n",
              "1737    $ 845.000.000  \n",
              "5119    $ 315.000.000  \n",
              "5443    $ 147.300.000  \n",
              "6961    $ 470.000.000  \n",
              "2372    $ 800.000.000  \n",
              "...               ...  \n",
              "9480  $ 1.500.000.000  \n",
              "5243  $ 2.750.000.000  \n",
              "5831    $ 365.000.000  \n",
              "9195    $ 280.000.000  \n",
              "4803  $ 4.000.000.000  \n",
              "\n",
              "[100 rows x 8 columns]"
            ],
            "text/html": [
              "\n",
              "  <div id=\"df-4ee0432c-2549-4812-a068-e4861f5d4d92\">\n",
              "    <div class=\"colab-df-container\">\n",
              "      <div>\n",
              "<style scoped>\n",
              "    .dataframe tbody tr th:only-of-type {\n",
              "        vertical-align: middle;\n",
              "    }\n",
              "\n",
              "    .dataframe tbody tr th {\n",
              "        vertical-align: top;\n",
              "    }\n",
              "\n",
              "    .dataframe thead th {\n",
              "        text-align: right;\n",
              "    }\n",
              "</style>\n",
              "<table border=\"1\" class=\"dataframe\">\n",
              "  <thead>\n",
              "    <tr style=\"text-align: right;\">\n",
              "      <th></th>\n",
              "      <th>Tipo</th>\n",
              "      <th>Descripcion</th>\n",
              "      <th>Habitaciones</th>\n",
              "      <th>Banos</th>\n",
              "      <th>Area</th>\n",
              "      <th>Barrio</th>\n",
              "      <th>UPZ</th>\n",
              "      <th>Valor</th>\n",
              "    </tr>\n",
              "  </thead>\n",
              "  <tbody>\n",
              "    <tr>\n",
              "      <th>1737</th>\n",
              "      <td>Casa</td>\n",
              "      <td>Casa en venta en Suba</td>\n",
              "      <td>5</td>\n",
              "      <td>4</td>\n",
              "      <td>220</td>\n",
              "      <td>Suba</td>\n",
              "      <td>Suba</td>\n",
              "      <td>$ 845.000.000</td>\n",
              "    </tr>\n",
              "    <tr>\n",
              "      <th>5119</th>\n",
              "      <td>Apartamento</td>\n",
              "      <td>Apartamento en venta en Cedritos</td>\n",
              "      <td>3</td>\n",
              "      <td>2</td>\n",
              "      <td>78</td>\n",
              "      <td>Cedritos</td>\n",
              "      <td>Usaquén</td>\n",
              "      <td>$ 315.000.000</td>\n",
              "    </tr>\n",
              "    <tr>\n",
              "      <th>5443</th>\n",
              "      <td>Apartamento</td>\n",
              "      <td>Apartamento en venta en Bosa</td>\n",
              "      <td>3</td>\n",
              "      <td>2</td>\n",
              "      <td>57</td>\n",
              "      <td>Bosa</td>\n",
              "      <td>Bosa Central</td>\n",
              "      <td>$ 147.300.000</td>\n",
              "    </tr>\n",
              "    <tr>\n",
              "      <th>6961</th>\n",
              "      <td>Apartamento</td>\n",
              "      <td>Apartamento en venta en Los Mártires</td>\n",
              "      <td>3</td>\n",
              "      <td>2</td>\n",
              "      <td>85</td>\n",
              "      <td>Los Mártires</td>\n",
              "      <td>La Sabana</td>\n",
              "      <td>$ 470.000.000</td>\n",
              "    </tr>\n",
              "    <tr>\n",
              "      <th>2372</th>\n",
              "      <td>Casa</td>\n",
              "      <td>Casa en venta en Santa Barbara</td>\n",
              "      <td>3</td>\n",
              "      <td>4</td>\n",
              "      <td>200</td>\n",
              "      <td>Santa Barbara</td>\n",
              "      <td>USAQUÉN: Country Club + Santa Bárbara</td>\n",
              "      <td>$ 800.000.000</td>\n",
              "    </tr>\n",
              "    <tr>\n",
              "      <th>...</th>\n",
              "      <td>...</td>\n",
              "      <td>...</td>\n",
              "      <td>...</td>\n",
              "      <td>...</td>\n",
              "      <td>...</td>\n",
              "      <td>...</td>\n",
              "      <td>...</td>\n",
              "      <td>...</td>\n",
              "    </tr>\n",
              "    <tr>\n",
              "      <th>9480</th>\n",
              "      <td>Local</td>\n",
              "      <td>Local en venta en Las Delicias</td>\n",
              "      <td>9</td>\n",
              "      <td>7</td>\n",
              "      <td>495</td>\n",
              "      <td>Las Delicias</td>\n",
              "      <td>Usaquén</td>\n",
              "      <td>$ 1.500.000.000</td>\n",
              "    </tr>\n",
              "    <tr>\n",
              "      <th>5243</th>\n",
              "      <td>Apartamento</td>\n",
              "      <td>Apartamento en venta en Chapinero</td>\n",
              "      <td>4</td>\n",
              "      <td>6</td>\n",
              "      <td>396</td>\n",
              "      <td>Chapinero</td>\n",
              "      <td>CHAPINERO: Pardo Rubio + Chapinero</td>\n",
              "      <td>$ 2.750.000.000</td>\n",
              "    </tr>\n",
              "    <tr>\n",
              "      <th>5831</th>\n",
              "      <td>Casa</td>\n",
              "      <td>Casa en venta en Engativa</td>\n",
              "      <td>4</td>\n",
              "      <td>2</td>\n",
              "      <td>72</td>\n",
              "      <td>Engativa</td>\n",
              "      <td>Engativá</td>\n",
              "      <td>$ 365.000.000</td>\n",
              "    </tr>\n",
              "    <tr>\n",
              "      <th>9195</th>\n",
              "      <td>Apartamento</td>\n",
              "      <td>Apartamento en venta en Las Nieves</td>\n",
              "      <td>1</td>\n",
              "      <td>1</td>\n",
              "      <td>26</td>\n",
              "      <td>Las Nieves</td>\n",
              "      <td>SANTA FE: Las Nieves + Sagrado Corazón</td>\n",
              "      <td>$ 280.000.000</td>\n",
              "    </tr>\n",
              "    <tr>\n",
              "      <th>4803</th>\n",
              "      <td>Casa</td>\n",
              "      <td>Casa en venta en Chapinero</td>\n",
              "      <td>6</td>\n",
              "      <td>3</td>\n",
              "      <td>1300</td>\n",
              "      <td>Chapinero</td>\n",
              "      <td>CHAPINERO: Pardo Rubio + Chapinero</td>\n",
              "      <td>$ 4.000.000.000</td>\n",
              "    </tr>\n",
              "  </tbody>\n",
              "</table>\n",
              "<p>100 rows × 8 columns</p>\n",
              "</div>\n",
              "      <button class=\"colab-df-convert\" onclick=\"convertToInteractive('df-4ee0432c-2549-4812-a068-e4861f5d4d92')\"\n",
              "              title=\"Convert this dataframe to an interactive table.\"\n",
              "              style=\"display:none;\">\n",
              "        \n",
              "  <svg xmlns=\"http://www.w3.org/2000/svg\" height=\"24px\"viewBox=\"0 0 24 24\"\n",
              "       width=\"24px\">\n",
              "    <path d=\"M0 0h24v24H0V0z\" fill=\"none\"/>\n",
              "    <path d=\"M18.56 5.44l.94 2.06.94-2.06 2.06-.94-2.06-.94-.94-2.06-.94 2.06-2.06.94zm-11 1L8.5 8.5l.94-2.06 2.06-.94-2.06-.94L8.5 2.5l-.94 2.06-2.06.94zm10 10l.94 2.06.94-2.06 2.06-.94-2.06-.94-.94-2.06-.94 2.06-2.06.94z\"/><path d=\"M17.41 7.96l-1.37-1.37c-.4-.4-.92-.59-1.43-.59-.52 0-1.04.2-1.43.59L10.3 9.45l-7.72 7.72c-.78.78-.78 2.05 0 2.83L4 21.41c.39.39.9.59 1.41.59.51 0 1.02-.2 1.41-.59l7.78-7.78 2.81-2.81c.8-.78.8-2.07 0-2.86zM5.41 20L4 18.59l7.72-7.72 1.47 1.35L5.41 20z\"/>\n",
              "  </svg>\n",
              "      </button>\n",
              "      \n",
              "  <style>\n",
              "    .colab-df-container {\n",
              "      display:flex;\n",
              "      flex-wrap:wrap;\n",
              "      gap: 12px;\n",
              "    }\n",
              "\n",
              "    .colab-df-convert {\n",
              "      background-color: #E8F0FE;\n",
              "      border: none;\n",
              "      border-radius: 50%;\n",
              "      cursor: pointer;\n",
              "      display: none;\n",
              "      fill: #1967D2;\n",
              "      height: 32px;\n",
              "      padding: 0 0 0 0;\n",
              "      width: 32px;\n",
              "    }\n",
              "\n",
              "    .colab-df-convert:hover {\n",
              "      background-color: #E2EBFA;\n",
              "      box-shadow: 0px 1px 2px rgba(60, 64, 67, 0.3), 0px 1px 3px 1px rgba(60, 64, 67, 0.15);\n",
              "      fill: #174EA6;\n",
              "    }\n",
              "\n",
              "    [theme=dark] .colab-df-convert {\n",
              "      background-color: #3B4455;\n",
              "      fill: #D2E3FC;\n",
              "    }\n",
              "\n",
              "    [theme=dark] .colab-df-convert:hover {\n",
              "      background-color: #434B5C;\n",
              "      box-shadow: 0px 1px 3px 1px rgba(0, 0, 0, 0.15);\n",
              "      filter: drop-shadow(0px 1px 2px rgba(0, 0, 0, 0.3));\n",
              "      fill: #FFFFFF;\n",
              "    }\n",
              "  </style>\n",
              "\n",
              "      <script>\n",
              "        const buttonEl =\n",
              "          document.querySelector('#df-4ee0432c-2549-4812-a068-e4861f5d4d92 button.colab-df-convert');\n",
              "        buttonEl.style.display =\n",
              "          google.colab.kernel.accessAllowed ? 'block' : 'none';\n",
              "\n",
              "        async function convertToInteractive(key) {\n",
              "          const element = document.querySelector('#df-4ee0432c-2549-4812-a068-e4861f5d4d92');\n",
              "          const dataTable =\n",
              "            await google.colab.kernel.invokeFunction('convertToInteractive',\n",
              "                                                     [key], {});\n",
              "          if (!dataTable) return;\n",
              "\n",
              "          const docLinkHtml = 'Like what you see? Visit the ' +\n",
              "            '<a target=\"_blank\" href=https://colab.research.google.com/notebooks/data_table.ipynb>data table notebook</a>'\n",
              "            + ' to learn more about interactive tables.';\n",
              "          element.innerHTML = '';\n",
              "          dataTable['output_type'] = 'display_data';\n",
              "          await google.colab.output.renderOutput(dataTable, element);\n",
              "          const docLink = document.createElement('div');\n",
              "          docLink.innerHTML = docLinkHtml;\n",
              "          element.appendChild(docLink);\n",
              "        }\n",
              "      </script>\n",
              "    </div>\n",
              "  </div>\n",
              "  "
            ]
          },
          "metadata": {},
          "execution_count": 10
        }
      ]
    },
    {
      "cell_type": "markdown",
      "source": [
        "11- Para volver a especificar la informacion arrojada con la primera muestra se le aplican filtros mediante la igualdad ==  'LO QUE SE QUIERA BUSCAR'"
      ],
      "metadata": {
        "id": "wt5qdYnifuTl"
      }
    },
    {
      "cell_type": "code",
      "source": [
        "(inmuebles.Barrio == 'Chico Reservado')"
      ],
      "metadata": {
        "colab": {
          "base_uri": "https://localhost:8080/"
        },
        "id": "-dLhc-0SgL_u",
        "outputId": "07c11dc0-6ec0-4140-89ff-04e3d0a5d8c7"
      },
      "execution_count": 90,
      "outputs": [
        {
          "output_type": "execute_result",
          "data": {
            "text/plain": [
              "0       False\n",
              "1       False\n",
              "2        True\n",
              "3       False\n",
              "4       False\n",
              "        ...  \n",
              "9515    False\n",
              "9516    False\n",
              "9517    False\n",
              "9518    False\n",
              "9519    False\n",
              "Name: Barrio, Length: 9520, dtype: bool"
            ]
          },
          "metadata": {},
          "execution_count": 90
        }
      ]
    },
    {
      "cell_type": "markdown",
      "source": [
        "12- Al filtro anterior le damos especificidad\n",
        "\n",
        "la suma de inmuebles dentro del barrio 'QUE SE QUIERA'"
      ],
      "metadata": {
        "id": "hOHJm4nFkMzg"
      }
    },
    {
      "cell_type": "code",
      "source": [
        "sum((inmuebles.Barrio == 'Chico Reservado'))\n",
        "\n"
      ],
      "metadata": {
        "colab": {
          "base_uri": "https://localhost:8080/"
        },
        "id": "L3BxMaHxkgwT",
        "outputId": "e7dc14de-117b-457e-8a89-150acf35d78d"
      },
      "execution_count": 52,
      "outputs": [
        {
          "output_type": "execute_result",
          "data": {
            "text/plain": [
              "225"
            ]
          },
          "metadata": {},
          "execution_count": 52
        }
      ]
    },
    {
      "cell_type": "markdown",
      "source": [
        "13- Tambien se pueden guardar las busquedas en una variable, creando un nuevo dataframe"
      ],
      "metadata": {
        "id": "NWN-FejFk0WW"
      }
    },
    {
      "cell_type": "code",
      "source": [
        "inmuebles_chico = (inmuebles.Barrio == 'Chico Reservado')\n",
        "type(inmuebles_chico)"
      ],
      "metadata": {
        "colab": {
          "base_uri": "https://localhost:8080/"
        },
        "id": "k77ToFPWkt_h",
        "outputId": "0b1a5027-0c7d-4f36-f413-70d3b8c3387f"
      },
      "execution_count": 54,
      "outputs": [
        {
          "output_type": "execute_result",
          "data": {
            "text/plain": [
              "pandas.core.series.Series"
            ]
          },
          "metadata": {},
          "execution_count": 54
        }
      ]
    },
    {
      "cell_type": "code",
      "source": [
        "chico_reservado = inmuebles[inmuebles_chico]\n",
        "chico_reservado"
      ],
      "metadata": {
        "colab": {
          "base_uri": "https://localhost:8080/",
          "height": 641
        },
        "id": "N0-diHoFlLGl",
        "outputId": "cbc76233-fac8-4dd8-dd5b-0944e03c3db3"
      },
      "execution_count": 62,
      "outputs": [
        {
          "output_type": "execute_result",
          "data": {
            "text/plain": [
              "             Tipo                              Descripcion  Habitaciones  \\\n",
              "2     Apartamento  Apartamento en venta en Chico Reservado             3   \n",
              "39    Apartamento  Apartamento en venta en Chico Reservado             1   \n",
              "72    Apartamento  Apartamento en venta en Chico Reservado             1   \n",
              "126   Apartamento  Apartamento en venta en Chico Reservado             3   \n",
              "143   Apartamento  Apartamento en venta en Chico Reservado             2   \n",
              "...           ...                                      ...           ...   \n",
              "9299  Apartamento  Apartamento en venta en Chico Reservado             3   \n",
              "9335  Apartamento  Apartamento en venta en Chico Reservado             3   \n",
              "9341  Apartamento  Apartamento en venta en Chico Reservado             2   \n",
              "9472  Apartamento  Apartamento en venta en Chico Reservado             3   \n",
              "9506  Apartamento  Apartamento en venta en Chico Reservado             3   \n",
              "\n",
              "      Banos  Area           Barrio                                 UPZ  \\\n",
              "2         3   144  Chico Reservado  CHAPINERO: Chicó Lago + El Refugio   \n",
              "39        1    64  Chico Reservado  CHAPINERO: Chicó Lago + El Refugio   \n",
              "72        1    64  Chico Reservado  CHAPINERO: Chicó Lago + El Refugio   \n",
              "126       4   150  Chico Reservado  CHAPINERO: Chicó Lago + El Refugio   \n",
              "143       4   104  Chico Reservado  CHAPINERO: Chicó Lago + El Refugio   \n",
              "...     ...   ...              ...                                 ...   \n",
              "9299      3   148  Chico Reservado  CHAPINERO: Chicó Lago + El Refugio   \n",
              "9335      3   176  Chico Reservado  CHAPINERO: Chicó Lago + El Refugio   \n",
              "9341      3   118  Chico Reservado  CHAPINERO: Chicó Lago + El Refugio   \n",
              "9472      1    49  Chico Reservado  CHAPINERO: Chicó Lago + El Refugio   \n",
              "9506      4   390  Chico Reservado  CHAPINERO: Chicó Lago + El Refugio   \n",
              "\n",
              "                Valor  \n",
              "2     $ 1.120.000.000  \n",
              "39      $ 495.000.000  \n",
              "72      $ 495.000.000  \n",
              "126   $ 1.300.000.000  \n",
              "143   $ 1.100.000.000  \n",
              "...               ...  \n",
              "9299    $ 780.000.000  \n",
              "9335    $ 850.000.000  \n",
              "9341    $ 700.000.000  \n",
              "9472    $ 200.000.000  \n",
              "9506  $ 3.200.000.000  \n",
              "\n",
              "[225 rows x 8 columns]"
            ],
            "text/html": [
              "\n",
              "  <div id=\"df-c5c0b4d1-c453-4ff6-8a71-f3b0e572616a\">\n",
              "    <div class=\"colab-df-container\">\n",
              "      <div>\n",
              "<style scoped>\n",
              "    .dataframe tbody tr th:only-of-type {\n",
              "        vertical-align: middle;\n",
              "    }\n",
              "\n",
              "    .dataframe tbody tr th {\n",
              "        vertical-align: top;\n",
              "    }\n",
              "\n",
              "    .dataframe thead th {\n",
              "        text-align: right;\n",
              "    }\n",
              "</style>\n",
              "<table border=\"1\" class=\"dataframe\">\n",
              "  <thead>\n",
              "    <tr style=\"text-align: right;\">\n",
              "      <th></th>\n",
              "      <th>Tipo</th>\n",
              "      <th>Descripcion</th>\n",
              "      <th>Habitaciones</th>\n",
              "      <th>Banos</th>\n",
              "      <th>Area</th>\n",
              "      <th>Barrio</th>\n",
              "      <th>UPZ</th>\n",
              "      <th>Valor</th>\n",
              "    </tr>\n",
              "  </thead>\n",
              "  <tbody>\n",
              "    <tr>\n",
              "      <th>2</th>\n",
              "      <td>Apartamento</td>\n",
              "      <td>Apartamento en venta en Chico Reservado</td>\n",
              "      <td>3</td>\n",
              "      <td>3</td>\n",
              "      <td>144</td>\n",
              "      <td>Chico Reservado</td>\n",
              "      <td>CHAPINERO: Chicó Lago + El Refugio</td>\n",
              "      <td>$ 1.120.000.000</td>\n",
              "    </tr>\n",
              "    <tr>\n",
              "      <th>39</th>\n",
              "      <td>Apartamento</td>\n",
              "      <td>Apartamento en venta en Chico Reservado</td>\n",
              "      <td>1</td>\n",
              "      <td>1</td>\n",
              "      <td>64</td>\n",
              "      <td>Chico Reservado</td>\n",
              "      <td>CHAPINERO: Chicó Lago + El Refugio</td>\n",
              "      <td>$ 495.000.000</td>\n",
              "    </tr>\n",
              "    <tr>\n",
              "      <th>72</th>\n",
              "      <td>Apartamento</td>\n",
              "      <td>Apartamento en venta en Chico Reservado</td>\n",
              "      <td>1</td>\n",
              "      <td>1</td>\n",
              "      <td>64</td>\n",
              "      <td>Chico Reservado</td>\n",
              "      <td>CHAPINERO: Chicó Lago + El Refugio</td>\n",
              "      <td>$ 495.000.000</td>\n",
              "    </tr>\n",
              "    <tr>\n",
              "      <th>126</th>\n",
              "      <td>Apartamento</td>\n",
              "      <td>Apartamento en venta en Chico Reservado</td>\n",
              "      <td>3</td>\n",
              "      <td>4</td>\n",
              "      <td>150</td>\n",
              "      <td>Chico Reservado</td>\n",
              "      <td>CHAPINERO: Chicó Lago + El Refugio</td>\n",
              "      <td>$ 1.300.000.000</td>\n",
              "    </tr>\n",
              "    <tr>\n",
              "      <th>143</th>\n",
              "      <td>Apartamento</td>\n",
              "      <td>Apartamento en venta en Chico Reservado</td>\n",
              "      <td>2</td>\n",
              "      <td>4</td>\n",
              "      <td>104</td>\n",
              "      <td>Chico Reservado</td>\n",
              "      <td>CHAPINERO: Chicó Lago + El Refugio</td>\n",
              "      <td>$ 1.100.000.000</td>\n",
              "    </tr>\n",
              "    <tr>\n",
              "      <th>...</th>\n",
              "      <td>...</td>\n",
              "      <td>...</td>\n",
              "      <td>...</td>\n",
              "      <td>...</td>\n",
              "      <td>...</td>\n",
              "      <td>...</td>\n",
              "      <td>...</td>\n",
              "      <td>...</td>\n",
              "    </tr>\n",
              "    <tr>\n",
              "      <th>9299</th>\n",
              "      <td>Apartamento</td>\n",
              "      <td>Apartamento en venta en Chico Reservado</td>\n",
              "      <td>3</td>\n",
              "      <td>3</td>\n",
              "      <td>148</td>\n",
              "      <td>Chico Reservado</td>\n",
              "      <td>CHAPINERO: Chicó Lago + El Refugio</td>\n",
              "      <td>$ 780.000.000</td>\n",
              "    </tr>\n",
              "    <tr>\n",
              "      <th>9335</th>\n",
              "      <td>Apartamento</td>\n",
              "      <td>Apartamento en venta en Chico Reservado</td>\n",
              "      <td>3</td>\n",
              "      <td>3</td>\n",
              "      <td>176</td>\n",
              "      <td>Chico Reservado</td>\n",
              "      <td>CHAPINERO: Chicó Lago + El Refugio</td>\n",
              "      <td>$ 850.000.000</td>\n",
              "    </tr>\n",
              "    <tr>\n",
              "      <th>9341</th>\n",
              "      <td>Apartamento</td>\n",
              "      <td>Apartamento en venta en Chico Reservado</td>\n",
              "      <td>2</td>\n",
              "      <td>3</td>\n",
              "      <td>118</td>\n",
              "      <td>Chico Reservado</td>\n",
              "      <td>CHAPINERO: Chicó Lago + El Refugio</td>\n",
              "      <td>$ 700.000.000</td>\n",
              "    </tr>\n",
              "    <tr>\n",
              "      <th>9472</th>\n",
              "      <td>Apartamento</td>\n",
              "      <td>Apartamento en venta en Chico Reservado</td>\n",
              "      <td>3</td>\n",
              "      <td>1</td>\n",
              "      <td>49</td>\n",
              "      <td>Chico Reservado</td>\n",
              "      <td>CHAPINERO: Chicó Lago + El Refugio</td>\n",
              "      <td>$ 200.000.000</td>\n",
              "    </tr>\n",
              "    <tr>\n",
              "      <th>9506</th>\n",
              "      <td>Apartamento</td>\n",
              "      <td>Apartamento en venta en Chico Reservado</td>\n",
              "      <td>3</td>\n",
              "      <td>4</td>\n",
              "      <td>390</td>\n",
              "      <td>Chico Reservado</td>\n",
              "      <td>CHAPINERO: Chicó Lago + El Refugio</td>\n",
              "      <td>$ 3.200.000.000</td>\n",
              "    </tr>\n",
              "  </tbody>\n",
              "</table>\n",
              "<p>225 rows × 8 columns</p>\n",
              "</div>\n",
              "      <button class=\"colab-df-convert\" onclick=\"convertToInteractive('df-c5c0b4d1-c453-4ff6-8a71-f3b0e572616a')\"\n",
              "              title=\"Convert this dataframe to an interactive table.\"\n",
              "              style=\"display:none;\">\n",
              "        \n",
              "  <svg xmlns=\"http://www.w3.org/2000/svg\" height=\"24px\"viewBox=\"0 0 24 24\"\n",
              "       width=\"24px\">\n",
              "    <path d=\"M0 0h24v24H0V0z\" fill=\"none\"/>\n",
              "    <path d=\"M18.56 5.44l.94 2.06.94-2.06 2.06-.94-2.06-.94-.94-2.06-.94 2.06-2.06.94zm-11 1L8.5 8.5l.94-2.06 2.06-.94-2.06-.94L8.5 2.5l-.94 2.06-2.06.94zm10 10l.94 2.06.94-2.06 2.06-.94-2.06-.94-.94-2.06-.94 2.06-2.06.94z\"/><path d=\"M17.41 7.96l-1.37-1.37c-.4-.4-.92-.59-1.43-.59-.52 0-1.04.2-1.43.59L10.3 9.45l-7.72 7.72c-.78.78-.78 2.05 0 2.83L4 21.41c.39.39.9.59 1.41.59.51 0 1.02-.2 1.41-.59l7.78-7.78 2.81-2.81c.8-.78.8-2.07 0-2.86zM5.41 20L4 18.59l7.72-7.72 1.47 1.35L5.41 20z\"/>\n",
              "  </svg>\n",
              "      </button>\n",
              "      \n",
              "  <style>\n",
              "    .colab-df-container {\n",
              "      display:flex;\n",
              "      flex-wrap:wrap;\n",
              "      gap: 12px;\n",
              "    }\n",
              "\n",
              "    .colab-df-convert {\n",
              "      background-color: #E8F0FE;\n",
              "      border: none;\n",
              "      border-radius: 50%;\n",
              "      cursor: pointer;\n",
              "      display: none;\n",
              "      fill: #1967D2;\n",
              "      height: 32px;\n",
              "      padding: 0 0 0 0;\n",
              "      width: 32px;\n",
              "    }\n",
              "\n",
              "    .colab-df-convert:hover {\n",
              "      background-color: #E2EBFA;\n",
              "      box-shadow: 0px 1px 2px rgba(60, 64, 67, 0.3), 0px 1px 3px 1px rgba(60, 64, 67, 0.15);\n",
              "      fill: #174EA6;\n",
              "    }\n",
              "\n",
              "    [theme=dark] .colab-df-convert {\n",
              "      background-color: #3B4455;\n",
              "      fill: #D2E3FC;\n",
              "    }\n",
              "\n",
              "    [theme=dark] .colab-df-convert:hover {\n",
              "      background-color: #434B5C;\n",
              "      box-shadow: 0px 1px 3px 1px rgba(0, 0, 0, 0.15);\n",
              "      filter: drop-shadow(0px 1px 2px rgba(0, 0, 0, 0.3));\n",
              "      fill: #FFFFFF;\n",
              "    }\n",
              "  </style>\n",
              "\n",
              "      <script>\n",
              "        const buttonEl =\n",
              "          document.querySelector('#df-c5c0b4d1-c453-4ff6-8a71-f3b0e572616a button.colab-df-convert');\n",
              "        buttonEl.style.display =\n",
              "          google.colab.kernel.accessAllowed ? 'block' : 'none';\n",
              "\n",
              "        async function convertToInteractive(key) {\n",
              "          const element = document.querySelector('#df-c5c0b4d1-c453-4ff6-8a71-f3b0e572616a');\n",
              "          const dataTable =\n",
              "            await google.colab.kernel.invokeFunction('convertToInteractive',\n",
              "                                                     [key], {});\n",
              "          if (!dataTable) return;\n",
              "\n",
              "          const docLinkHtml = 'Like what you see? Visit the ' +\n",
              "            '<a target=\"_blank\" href=https://colab.research.google.com/notebooks/data_table.ipynb>data table notebook</a>'\n",
              "            + ' to learn more about interactive tables.';\n",
              "          element.innerHTML = '';\n",
              "          dataTable['output_type'] = 'display_data';\n",
              "          await google.colab.output.renderOutput(dataTable, element);\n",
              "          const docLink = document.createElement('div');\n",
              "          docLink.innerHTML = docLinkHtml;\n",
              "          element.appendChild(docLink);\n",
              "        }\n",
              "      </script>\n",
              "    </div>\n",
              "  </div>\n",
              "  "
            ]
          },
          "metadata": {},
          "execution_count": 62
        }
      ]
    },
    {
      "cell_type": "markdown",
      "source": [
        "14- Podemos tambien calcular el promedio de los valores de esta zona, pero esta vez utilizando la variable creada."
      ],
      "metadata": {
        "id": "IRXtOikOMB5i"
      }
    },
    {
      "cell_type": "code",
      "source": [
        "chico_reservado.Area.mean()"
      ],
      "metadata": {
        "colab": {
          "base_uri": "https://localhost:8080/"
        },
        "id": "LnPupstANFhu",
        "outputId": "99aa96df-cbf9-4a8e-e90e-5ec2eaefa700"
      },
      "execution_count": null,
      "outputs": [
        {
          "output_type": "execute_result",
          "data": {
            "text/plain": [
              "142.78666666666666"
            ]
          },
          "metadata": {},
          "execution_count": 33
        }
      ]
    },
    {
      "cell_type": "markdown",
      "source": [
        "15- Ahora vamos a usar la funcion de **value_count** para traer el conteo de los inmuebles por barrio que figuran en el datasets"
      ],
      "metadata": {
        "id": "HSAVhm2fYTAf"
      }
    },
    {
      "cell_type": "code",
      "source": [
        "inmuebles.Barrio.value_counts()"
      ],
      "metadata": {
        "colab": {
          "base_uri": "https://localhost:8080/"
        },
        "id": "1PCkxuqfancR",
        "outputId": "b1842086-6d58-4ed6-f0d0-45efb206acaa"
      },
      "execution_count": null,
      "outputs": [
        {
          "output_type": "execute_result",
          "data": {
            "text/plain": [
              "Usaquén               1105\n",
              "Zona Noroccidental     877\n",
              "Bosa                   589\n",
              "Kennedy                589\n",
              "Cedritos               554\n",
              "                      ... \n",
              "Colinas De Suba          1\n",
              "La Estanzuela            1\n",
              "Roma                     1\n",
              "Alameda                  1\n",
              "Prado Veraniego          1\n",
              "Name: Barrio, Length: 149, dtype: int64"
            ]
          },
          "metadata": {},
          "execution_count": 34
        }
      ]
    },
    {
      "cell_type": "markdown",
      "source": [
        "16- para conocer la cantidad de barrios/upz que hay en el datasets con el que estamos trabajando"
      ],
      "metadata": {
        "id": "k-zWo4B4bLtW"
      }
    },
    {
      "cell_type": "code",
      "source": [
        "len(inmuebles.Barrio.value_counts())"
      ],
      "metadata": {
        "colab": {
          "base_uri": "https://localhost:8080/"
        },
        "id": "FyqBW3ucbV07",
        "outputId": "fff4008c-0cc6-4465-96ac-905e8fd58692"
      },
      "execution_count": null,
      "outputs": [
        {
          "output_type": "execute_result",
          "data": {
            "text/plain": [
              "149"
            ]
          },
          "metadata": {},
          "execution_count": 35
        }
      ]
    },
    {
      "cell_type": "code",
      "source": [
        "len(inmuebles.UPZ.value_counts())"
      ],
      "metadata": {
        "colab": {
          "base_uri": "https://localhost:8080/"
        },
        "id": "7EJFyNFMb7p4",
        "outputId": "dcafc002-72f3-4adc-e63f-13f8c7bce732"
      },
      "execution_count": null,
      "outputs": [
        {
          "output_type": "execute_result",
          "data": {
            "text/plain": [
              "63"
            ]
          },
          "metadata": {},
          "execution_count": 36
        }
      ]
    },
    {
      "cell_type": "markdown",
      "source": [
        "**GRAFICOS**"
      ],
      "metadata": {
        "id": "JZuJrQE9cSc9"
      }
    },
    {
      "cell_type": "markdown",
      "source": [
        "17- Cantidad de inmuebles por barrio, en este caso se crea una variable con los datos a procesar, y se  la llama usando  el metodo **plot** para visualizar el grafico y el **bar** para especificar el tipo de grafico"
      ],
      "metadata": {
        "id": "KQ9bq98XcbrL"
      }
    },
    {
      "cell_type": "code",
      "source": [
        "inmuebles_barrio = inmuebles.Barrio.value_counts()\n",
        "inmuebles_barrio.plot.bar()"
      ],
      "metadata": {
        "colab": {
          "base_uri": "https://localhost:8080/",
          "height": 388
        },
        "id": "2KhQ8mnNe8MG",
        "outputId": "e2975cef-1dd1-4fa8-dfb8-4a498e405651"
      },
      "execution_count": null,
      "outputs": [
        {
          "output_type": "execute_result",
          "data": {
            "text/plain": [
              "<Axes: >"
            ]
          },
          "metadata": {},
          "execution_count": 37
        },
        {
          "output_type": "display_data",
          "data": {
            "text/plain": [
              "<Figure size 432x288 with 1 Axes>"
            ],
            "image/png": "[encoded data removed]"
          },
          "metadata": {
            "needs_background": "light"
          }
        }
      ]
    },
    {
      "cell_type": "markdown",
      "source": [
        "18- Para mejorar la visualizacion del grafico, se procede a elegir entre los primeros 10 barrios."
      ],
      "metadata": {
        "id": "RqKPifKTgV0w"
      }
    },
    {
      "cell_type": "code",
      "source": [
        "inmuebles_barrio.head(10).plot.bar()\n"
      ],
      "metadata": {
        "colab": {
          "base_uri": "https://localhost:8080/",
          "height": 370
        },
        "id": "rGAunGvOggZQ",
        "outputId": "fd156f5c-6d93-4163-fc7e-7bcaac50cf80"
      },
      "execution_count": 77,
      "outputs": [
        {
          "output_type": "execute_result",
          "data": {
            "text/plain": [
              "<Axes: >"
            ]
          },
          "metadata": {},
          "execution_count": 77
        },
        {
          "output_type": "display_data",
          "data": {
            "text/plain": [
              "<Figure size 432x288 with 1 Axes>"
            ],
            "image/png": "[encoded data removed]"
          },
          "metadata": {
            "needs_background": "light"
          }
        }
      ]
    },
    {
      "cell_type": "markdown",
      "source": [
        "**Desafío**\n",
        "\n",
        "Promedio de área de todos los inmuebles en los barrios en el dataset. El top 10.\n",
        "\n",
        "Consultar otros datos estadísticos, conteo, mediana, valores mínimo y máximo."
      ],
      "metadata": {
        "id": "d6_LJrQRguQl"
      }
    },
    {
      "cell_type": "code",
      "source": [
        "promedioXarea = inmuebles.groupby('Barrio')['Area'].mean()\n",
        "topTen= promedioXarea.sort_values(ascending=False).head(10)\n",
        "topTen.plot.bar()\n"
      ],
      "metadata": {
        "colab": {
          "base_uri": "https://localhost:8080/",
          "height": 392
        },
        "id": "zPkKb-dpc513",
        "outputId": "b61b76f9-50a3-40cd-cda0-62327efd22fe"
      },
      "execution_count": 92,
      "outputs": [
        {
          "output_type": "execute_result",
          "data": {
            "text/plain": [
              "<Axes: xlabel='Barrio'>"
            ]
          },
          "metadata": {},
          "execution_count": 92
        },
        {
          "output_type": "display_data",
          "data": {
            "text/plain": [
              "<Figure size 432x288 with 1 Axes>"
            ],
            "image/png": "[encoded data removed]"
          },
          "metadata": {
            "needs_background": "light"
          }
        }
      ]
    },
    {
      "cell_type": "markdown",
      "source": [
        "**Conteo por barrio**"
      ],
      "metadata": {
        "id": "jUBSwU7_04LB"
      }
    },
    {
      "cell_type": "code",
      "source": [
        "conteoXbarrio = inmuebles.groupby('Barrio')['Area'].count()\n",
        "conteoXbarrio"
      ],
      "metadata": {
        "colab": {
          "base_uri": "https://localhost:8080/"
        },
        "id": "ndlImyUxn3D6",
        "outputId": "2a8d7d0d-bf2f-4732-c267-8feaa673b466"
      },
      "execution_count": 93,
      "outputs": [
        {
          "output_type": "execute_result",
          "data": {
            "text/plain": [
              "Barrio\n",
              "Alameda                 1\n",
              "Alhambra               17\n",
              "Andes Norte             7\n",
              "Antonio Nariño         48\n",
              "Barrancas              15\n",
              "                     ... \n",
              "Villa Maria            13\n",
              "Villas De Granada      22\n",
              "Villemar               18\n",
              "Zona Franca             1\n",
              "Zona Noroccidental    877\n",
              "Name: Area, Length: 149, dtype: int64"
            ]
          },
          "metadata": {},
          "execution_count": 93
        }
      ]
    },
    {
      "cell_type": "markdown",
      "source": [
        "**Mediana por barrio**"
      ],
      "metadata": {
        "id": "uLPb4tPV0_DN"
      }
    },
    {
      "cell_type": "code",
      "source": [
        "medianaXbarrio =inmuebles.groupby('Barrio')['Area'].median()\n",
        "medianaXbarrio"
      ],
      "metadata": {
        "colab": {
          "base_uri": "https://localhost:8080/"
        },
        "id": "YO6N0exIsVqd",
        "outputId": "0fb3212d-3878-4eee-cf09-34846c2ec8fc"
      },
      "execution_count": 94,
      "outputs": [
        {
          "output_type": "execute_result",
          "data": {
            "text/plain": [
              "Barrio\n",
              "Alameda                97.0\n",
              "Alhambra              164.0\n",
              "Andes Norte           108.0\n",
              "Antonio Nariño         72.0\n",
              "Barrancas              75.0\n",
              "                      ...  \n",
              "Villa Maria           222.0\n",
              "Villas De Granada      64.0\n",
              "Villemar               59.0\n",
              "Zona Franca            54.0\n",
              "Zona Noroccidental     78.0\n",
              "Name: Area, Length: 149, dtype: float64"
            ]
          },
          "metadata": {},
          "execution_count": 94
        }
      ]
    },
    {
      "cell_type": "markdown",
      "source": [
        "**Minimo por barrio**"
      ],
      "metadata": {
        "id": "yW29EWv61FEw"
      }
    },
    {
      "cell_type": "code",
      "source": [
        "minimoXbarrio =inmuebles.groupby('Barrio')['Area'].min()\n",
        "minimoXbarrio"
      ],
      "metadata": {
        "colab": {
          "base_uri": "https://localhost:8080/"
        },
        "id": "BNSxdo4xsqR4",
        "outputId": "4a9189d8-7c1f-47d2-83c7-6fd96bb086a0"
      },
      "execution_count": 95,
      "outputs": [
        {
          "output_type": "execute_result",
          "data": {
            "text/plain": [
              "Barrio\n",
              "Alameda               97\n",
              "Alhambra              50\n",
              "Andes Norte           42\n",
              "Antonio Nariño        32\n",
              "Barrancas             63\n",
              "                      ..\n",
              "Villa Maria           51\n",
              "Villas De Granada     50\n",
              "Villemar              45\n",
              "Zona Franca           54\n",
              "Zona Noroccidental    16\n",
              "Name: Area, Length: 149, dtype: int64"
            ]
          },
          "metadata": {},
          "execution_count": 95
        }
      ]
    },
    {
      "cell_type": "markdown",
      "source": [
        "**Maximo por barrio**"
      ],
      "metadata": {
        "id": "xmJglSgF1Lqj"
      }
    },
    {
      "cell_type": "code",
      "source": [
        "maximoXbarrio =inmuebles.groupby('Barrio')['Area'].max()\n",
        "maximoXbarrio"
      ],
      "metadata": {
        "colab": {
          "base_uri": "https://localhost:8080/"
        },
        "id": "_zYQNCHzs4o4",
        "outputId": "f82aaa30-5353-4c9a-e54a-7fb030f5ecc3"
      },
      "execution_count": 11,
      "outputs": [
        {
          "output_type": "execute_result",
          "data": {
            "text/plain": [
              "Barrio\n",
              "Alameda                 97\n",
              "Alhambra               360\n",
              "Andes Norte            180\n",
              "Antonio Nariño         554\n",
              "Barrancas               78\n",
              "                      ... \n",
              "Villa Maria            222\n",
              "Villas De Granada      260\n",
              "Villemar               224\n",
              "Zona Franca             54\n",
              "Zona Noroccidental    5458\n",
              "Name: Area, Length: 149, dtype: int64"
            ]
          },
          "metadata": {},
          "execution_count": 11
        }
      ]
    },
    {
      "cell_type": "markdown",
      "source": [
        "# **Segundo encuentro de inmersion de datos**\n"
      ],
      "metadata": {
        "id": "q3gB2dDPz29T"
      }
    },
    {
      "cell_type": "markdown",
      "source": [
        "1- volvemos a traer una muestra del datra frame para tener de referencia y con la funcion **sample** se escoge la cantidad que queremos traer"
      ],
      "metadata": {
        "id": "9UBe6opbtKsD"
      }
    },
    {
      "cell_type": "code",
      "source": [
        "inmuebles.sample(5)"
      ],
      "metadata": {
        "colab": {
          "base_uri": "https://localhost:8080/",
          "height": 337
        },
        "id": "TOnEHcK3myRV",
        "outputId": "a8a71138-c9c1-450f-be6e-c3acfa89bed9"
      },
      "execution_count": 69,
      "outputs": [
        {
          "output_type": "execute_result",
          "data": {
            "text/plain": [
              "             Tipo                              Descripcion  Habitaciones  \\\n",
              "3473  Apartamento          Apartamento en venta en Kennedy             2   \n",
              "2444  Apartamento         Apartamento en venta en Fontibón             3   \n",
              "1681         Casa             Casa en venta en Teusaquillo             5   \n",
              "8549  Apartamento         Apartamento en venta en Engativa             3   \n",
              "6258  Apartamento  Apartamento en venta en Chico Reservado             2   \n",
              "\n",
              "      Banos  Area           Barrio                                 UPZ  \\\n",
              "3473      1    42          Kennedy                     Kennedy Central   \n",
              "2444      1    56         Fontibón                            Fontibón   \n",
              "1681      4   250      Teusaquillo                         Teusaquillo   \n",
              "8549      1    48         Engativa                            Engativá   \n",
              "6258      2   112  Chico Reservado  CHAPINERO: Chicó Lago + El Refugio   \n",
              "\n",
              "                Valor  \n",
              "3473    $ 116.100.000  \n",
              "2444    $ 155.000.000  \n",
              "1681  $ 1.100.000.000  \n",
              "8549    $ 260.000.000  \n",
              "6258    $ 820.000.000  "
            ],
            "text/html": [
              "\n",
              "  <div id=\"df-326862c5-5f57-4179-b217-9128e4340d16\">\n",
              "    <div class=\"colab-df-container\">\n",
              "      <div>\n",
              "<style scoped>\n",
              "    .dataframe tbody tr th:only-of-type {\n",
              "        vertical-align: middle;\n",
              "    }\n",
              "\n",
              "    .dataframe tbody tr th {\n",
              "        vertical-align: top;\n",
              "    }\n",
              "\n",
              "    .dataframe thead th {\n",
              "        text-align: right;\n",
              "    }\n",
              "</style>\n",
              "<table border=\"1\" class=\"dataframe\">\n",
              "  <thead>\n",
              "    <tr style=\"text-align: right;\">\n",
              "      <th></th>\n",
              "      <th>Tipo</th>\n",
              "      <th>Descripcion</th>\n",
              "      <th>Habitaciones</th>\n",
              "      <th>Banos</th>\n",
              "      <th>Area</th>\n",
              "      <th>Barrio</th>\n",
              "      <th>UPZ</th>\n",
              "      <th>Valor</th>\n",
              "    </tr>\n",
              "  </thead>\n",
              "  <tbody>\n",
              "    <tr>\n",
              "      <th>3473</th>\n",
              "      <td>Apartamento</td>\n",
              "      <td>Apartamento en venta en Kennedy</td>\n",
              "      <td>2</td>\n",
              "      <td>1</td>\n",
              "      <td>42</td>\n",
              "      <td>Kennedy</td>\n",
              "      <td>Kennedy Central</td>\n",
              "      <td>$ 116.100.000</td>\n",
              "    </tr>\n",
              "    <tr>\n",
              "      <th>2444</th>\n",
              "      <td>Apartamento</td>\n",
              "      <td>Apartamento en venta en Fontibón</td>\n",
              "      <td>3</td>\n",
              "      <td>1</td>\n",
              "      <td>56</td>\n",
              "      <td>Fontibón</td>\n",
              "      <td>Fontibón</td>\n",
              "      <td>$ 155.000.000</td>\n",
              "    </tr>\n",
              "    <tr>\n",
              "      <th>1681</th>\n",
              "      <td>Casa</td>\n",
              "      <td>Casa en venta en Teusaquillo</td>\n",
              "      <td>5</td>\n",
              "      <td>4</td>\n",
              "      <td>250</td>\n",
              "      <td>Teusaquillo</td>\n",
              "      <td>Teusaquillo</td>\n",
              "      <td>$ 1.100.000.000</td>\n",
              "    </tr>\n",
              "    <tr>\n",
              "      <th>8549</th>\n",
              "      <td>Apartamento</td>\n",
              "      <td>Apartamento en venta en Engativa</td>\n",
              "      <td>3</td>\n",
              "      <td>1</td>\n",
              "      <td>48</td>\n",
              "      <td>Engativa</td>\n",
              "      <td>Engativá</td>\n",
              "      <td>$ 260.000.000</td>\n",
              "    </tr>\n",
              "    <tr>\n",
              "      <th>6258</th>\n",
              "      <td>Apartamento</td>\n",
              "      <td>Apartamento en venta en Chico Reservado</td>\n",
              "      <td>2</td>\n",
              "      <td>2</td>\n",
              "      <td>112</td>\n",
              "      <td>Chico Reservado</td>\n",
              "      <td>CHAPINERO: Chicó Lago + El Refugio</td>\n",
              "      <td>$ 820.000.000</td>\n",
              "    </tr>\n",
              "  </tbody>\n",
              "</table>\n",
              "</div>\n",
              "      <button class=\"colab-df-convert\" onclick=\"convertToInteractive('df-326862c5-5f57-4179-b217-9128e4340d16')\"\n",
              "              title=\"Convert this dataframe to an interactive table.\"\n",
              "              style=\"display:none;\">\n",
              "        \n",
              "  <svg xmlns=\"http://www.w3.org/2000/svg\" height=\"24px\"viewBox=\"0 0 24 24\"\n",
              "       width=\"24px\">\n",
              "    <path d=\"M0 0h24v24H0V0z\" fill=\"none\"/>\n",
              "    <path d=\"M18.56 5.44l.94 2.06.94-2.06 2.06-.94-2.06-.94-.94-2.06-.94 2.06-2.06.94zm-11 1L8.5 8.5l.94-2.06 2.06-.94-2.06-.94L8.5 2.5l-.94 2.06-2.06.94zm10 10l.94 2.06.94-2.06 2.06-.94-2.06-.94-.94-2.06-.94 2.06-2.06.94z\"/><path d=\"M17.41 7.96l-1.37-1.37c-.4-.4-.92-.59-1.43-.59-.52 0-1.04.2-1.43.59L10.3 9.45l-7.72 7.72c-.78.78-.78 2.05 0 2.83L4 21.41c.39.39.9.59 1.41.59.51 0 1.02-.2 1.41-.59l7.78-7.78 2.81-2.81c.8-.78.8-2.07 0-2.86zM5.41 20L4 18.59l7.72-7.72 1.47 1.35L5.41 20z\"/>\n",
              "  </svg>\n",
              "      </button>\n",
              "      \n",
              "  <style>\n",
              "    .colab-df-container {\n",
              "      display:flex;\n",
              "      flex-wrap:wrap;\n",
              "      gap: 12px;\n",
              "    }\n",
              "\n",
              "    .colab-df-convert {\n",
              "      background-color: #E8F0FE;\n",
              "      border: none;\n",
              "      border-radius: 50%;\n",
              "      cursor: pointer;\n",
              "      display: none;\n",
              "      fill: #1967D2;\n",
              "      height: 32px;\n",
              "      padding: 0 0 0 0;\n",
              "      width: 32px;\n",
              "    }\n",
              "\n",
              "    .colab-df-convert:hover {\n",
              "      background-color: #E2EBFA;\n",
              "      box-shadow: 0px 1px 2px rgba(60, 64, 67, 0.3), 0px 1px 3px 1px rgba(60, 64, 67, 0.15);\n",
              "      fill: #174EA6;\n",
              "    }\n",
              "\n",
              "    [theme=dark] .colab-df-convert {\n",
              "      background-color: #3B4455;\n",
              "      fill: #D2E3FC;\n",
              "    }\n",
              "\n",
              "    [theme=dark] .colab-df-convert:hover {\n",
              "      background-color: #434B5C;\n",
              "      box-shadow: 0px 1px 3px 1px rgba(0, 0, 0, 0.15);\n",
              "      filter: drop-shadow(0px 1px 2px rgba(0, 0, 0, 0.3));\n",
              "      fill: #FFFFFF;\n",
              "    }\n",
              "  </style>\n",
              "\n",
              "      <script>\n",
              "        const buttonEl =\n",
              "          document.querySelector('#df-326862c5-5f57-4179-b217-9128e4340d16 button.colab-df-convert');\n",
              "        buttonEl.style.display =\n",
              "          google.colab.kernel.accessAllowed ? 'block' : 'none';\n",
              "\n",
              "        async function convertToInteractive(key) {\n",
              "          const element = document.querySelector('#df-326862c5-5f57-4179-b217-9128e4340d16');\n",
              "          const dataTable =\n",
              "            await google.colab.kernel.invokeFunction('convertToInteractive',\n",
              "                                                     [key], {});\n",
              "          if (!dataTable) return;\n",
              "\n",
              "          const docLinkHtml = 'Like what you see? Visit the ' +\n",
              "            '<a target=\"_blank\" href=https://colab.research.google.com/notebooks/data_table.ipynb>data table notebook</a>'\n",
              "            + ' to learn more about interactive tables.';\n",
              "          element.innerHTML = '';\n",
              "          dataTable['output_type'] = 'display_data';\n",
              "          await google.colab.output.renderOutput(dataTable, element);\n",
              "          const docLink = document.createElement('div');\n",
              "          docLink.innerHTML = docLinkHtml;\n",
              "          element.appendChild(docLink);\n",
              "        }\n",
              "      </script>\n",
              "    </div>\n",
              "  </div>\n",
              "  "
            ]
          },
          "metadata": {},
          "execution_count": 69
        }
      ]
    },
    {
      "cell_type": "markdown",
      "source": [
        "2- con la funcion **info** volvemos a consultar como esta formado el dataframe (columnas, filas y datatypes)"
      ],
      "metadata": {
        "id": "s9dSp0XStsC-"
      }
    },
    {
      "cell_type": "code",
      "source": [
        "inmuebles.info()\n"
      ],
      "metadata": {
        "colab": {
          "base_uri": "https://localhost:8080/"
        },
        "id": "XTl9Mb9juGNV",
        "outputId": "c2761f3a-1c72-446a-a4f2-cde125952138"
      },
      "execution_count": 70,
      "outputs": [
        {
          "output_type": "stream",
          "name": "stdout",
          "text": [
            "<class 'pandas.core.frame.DataFrame'>\n",
            "RangeIndex: 9520 entries, 0 to 9519\n",
            "Data columns (total 8 columns):\n",
            " #   Column        Non-Null Count  Dtype \n",
            "---  ------        --------------  ----- \n",
            " 0   Tipo          9520 non-null   object\n",
            " 1   Descripcion   9520 non-null   object\n",
            " 2   Habitaciones  9520 non-null   int64 \n",
            " 3   Banos         9520 non-null   int64 \n",
            " 4   Area          9520 non-null   int64 \n",
            " 5   Barrio        9520 non-null   object\n",
            " 6   UPZ           9478 non-null   object\n",
            " 7   Valor         9520 non-null   object\n",
            "dtypes: int64(3), object(5)\n",
            "memory usage: 595.1+ KB\n"
          ]
        }
      ]
    },
    {
      "cell_type": "markdown",
      "source": [
        "3- Con la funcion **type** vemos el tipo de *datos*  almacenado en el objeto \"Valor\" que pertenece al objeto \"inmuebles\"."
      ],
      "metadata": {
        "id": "h6bTMzL9ubO4"
      }
    },
    {
      "cell_type": "code",
      "source": [
        "type(inmuebles.Valor[0])\n"
      ],
      "metadata": {
        "colab": {
          "base_uri": "https://localhost:8080/"
        },
        "id": "Vt0uSFiKue6D",
        "outputId": "8a12273f-c8a2-46c0-cef5-834f897ebac4"
      },
      "execution_count": 71,
      "outputs": [
        {
          "output_type": "execute_result",
          "data": {
            "text/plain": [
              "str"
            ]
          },
          "metadata": {},
          "execution_count": 71
        }
      ]
    },
    {
      "cell_type": "markdown",
      "source": [
        "4- ya sabemos que el datatype almacenado en \"valor\" es un string a pesar de que se vea un numero, y ahora nos topamos con los inconvenientes de querer **sumar strings** no se puede ademas de tener q **sacar el signo de pesos** ($) y los **puntos separadores de decimales**"
      ],
      "metadata": {
        "id": "1RUx0-EJ0BVN"
      }
    },
    {
      "cell_type": "code",
      "source": [
        "inmuebles.Valor[0]"
      ],
      "metadata": {
        "colab": {
          "base_uri": "https://localhost:8080/",
          "height": 35
        },
        "id": "CmbDbugq0GT2",
        "outputId": "5ed4e5f6-811f-46ce-bf76-f0e2a88f7f06"
      },
      "execution_count": 72,
      "outputs": [
        {
          "output_type": "execute_result",
          "data": {
            "text/plain": [
              "'$ 360.000.000'"
            ],
            "application/vnd.google.colaboratory.intrinsic+json": {
              "type": "string"
            }
          },
          "metadata": {},
          "execution_count": 72
        }
      ]
    },
    {
      "cell_type": "markdown",
      "source": [
        "5- con la funcion **split()** sin especificar nada  por parametro se va a llenar el espacio entre el ($) y el string con una coma (,)"
      ],
      "metadata": {
        "id": "n3v7ZMtd0qfK"
      }
    },
    {
      "cell_type": "code",
      "source": [
        "inmuebles.Valor[0].split()\n"
      ],
      "metadata": {
        "colab": {
          "base_uri": "https://localhost:8080/"
        },
        "id": "3u1BnO1v0pWL",
        "outputId": "8ac3d6c3-25d7-4959-cc44-84891fa0f290"
      },
      "execution_count": 73,
      "outputs": [
        {
          "output_type": "execute_result",
          "data": {
            "text/plain": [
              "['$', '360.000.000']"
            ]
          },
          "metadata": {},
          "execution_count": 73
        }
      ]
    },
    {
      "cell_type": "markdown",
      "source": [
        "6- ahora necesitamos transformar toda la columna a string para poderlos separar.\n",
        "con el siguente codigo se puede ver que el resultado es un nuevo dataframe con un formato de 2 columnas, una con ($) y otra con el valor"
      ],
      "metadata": {
        "id": "Jzqj8XZd1UXB"
      }
    },
    {
      "cell_type": "code",
      "source": [
        "inmuebles.Valor.str.split(expand=True)"
      ],
      "metadata": {
        "colab": {
          "base_uri": "https://localhost:8080/",
          "height": 424
        },
        "id": "A_LozSy12PF8",
        "outputId": "f6d869b0-1716-4a66-a34c-34103fa4c5dc"
      },
      "execution_count": 74,
      "outputs": [
        {
          "output_type": "execute_result",
          "data": {
            "text/plain": [
              "      0              1\n",
              "0     $    360.000.000\n",
              "1     $    670.000.000\n",
              "2     $  1.120.000.000\n",
              "3     $    890.000.000\n",
              "4     $    970.000.000\n",
              "...  ..            ...\n",
              "9515  $    290.000.000\n",
              "9516  $    670.000.000\n",
              "9517  $    900.000.000\n",
              "9518  $    335.000.000\n",
              "9519  $    144.990.000\n",
              "\n",
              "[9520 rows x 2 columns]"
            ],
            "text/html": [
              "\n",
              "  <div id=\"df-eccd347f-7ec4-4116-92a7-10fe2ebf4a84\">\n",
              "    <div class=\"colab-df-container\">\n",
              "      <div>\n",
              "<style scoped>\n",
              "    .dataframe tbody tr th:only-of-type {\n",
              "        vertical-align: middle;\n",
              "    }\n",
              "\n",
              "    .dataframe tbody tr th {\n",
              "        vertical-align: top;\n",
              "    }\n",
              "\n",
              "    .dataframe thead th {\n",
              "        text-align: right;\n",
              "    }\n",
              "</style>\n",
              "<table border=\"1\" class=\"dataframe\">\n",
              "  <thead>\n",
              "    <tr style=\"text-align: right;\">\n",
              "      <th></th>\n",
              "      <th>0</th>\n",
              "      <th>1</th>\n",
              "    </tr>\n",
              "  </thead>\n",
              "  <tbody>\n",
              "    <tr>\n",
              "      <th>0</th>\n",
              "      <td>$</td>\n",
              "      <td>360.000.000</td>\n",
              "    </tr>\n",
              "    <tr>\n",
              "      <th>1</th>\n",
              "      <td>$</td>\n",
              "      <td>670.000.000</td>\n",
              "    </tr>\n",
              "    <tr>\n",
              "      <th>2</th>\n",
              "      <td>$</td>\n",
              "      <td>1.120.000.000</td>\n",
              "    </tr>\n",
              "    <tr>\n",
              "      <th>3</th>\n",
              "      <td>$</td>\n",
              "      <td>890.000.000</td>\n",
              "    </tr>\n",
              "    <tr>\n",
              "      <th>4</th>\n",
              "      <td>$</td>\n",
              "      <td>970.000.000</td>\n",
              "    </tr>\n",
              "    <tr>\n",
              "      <th>...</th>\n",
              "      <td>...</td>\n",
              "      <td>...</td>\n",
              "    </tr>\n",
              "    <tr>\n",
              "      <th>9515</th>\n",
              "      <td>$</td>\n",
              "      <td>290.000.000</td>\n",
              "    </tr>\n",
              "    <tr>\n",
              "      <th>9516</th>\n",
              "      <td>$</td>\n",
              "      <td>670.000.000</td>\n",
              "    </tr>\n",
              "    <tr>\n",
              "      <th>9517</th>\n",
              "      <td>$</td>\n",
              "      <td>900.000.000</td>\n",
              "    </tr>\n",
              "    <tr>\n",
              "      <th>9518</th>\n",
              "      <td>$</td>\n",
              "      <td>335.000.000</td>\n",
              "    </tr>\n",
              "    <tr>\n",
              "      <th>9519</th>\n",
              "      <td>$</td>\n",
              "      <td>144.990.000</td>\n",
              "    </tr>\n",
              "  </tbody>\n",
              "</table>\n",
              "<p>9520 rows × 2 columns</p>\n",
              "</div>\n",
              "      <button class=\"colab-df-convert\" onclick=\"convertToInteractive('df-eccd347f-7ec4-4116-92a7-10fe2ebf4a84')\"\n",
              "              title=\"Convert this dataframe to an interactive table.\"\n",
              "              style=\"display:none;\">\n",
              "        \n",
              "  <svg xmlns=\"http://www.w3.org/2000/svg\" height=\"24px\"viewBox=\"0 0 24 24\"\n",
              "       width=\"24px\">\n",
              "    <path d=\"M0 0h24v24H0V0z\" fill=\"none\"/>\n",
              "    <path d=\"M18.56 5.44l.94 2.06.94-2.06 2.06-.94-2.06-.94-.94-2.06-.94 2.06-2.06.94zm-11 1L8.5 8.5l.94-2.06 2.06-.94-2.06-.94L8.5 2.5l-.94 2.06-2.06.94zm10 10l.94 2.06.94-2.06 2.06-.94-2.06-.94-.94-2.06-.94 2.06-2.06.94z\"/><path d=\"M17.41 7.96l-1.37-1.37c-.4-.4-.92-.59-1.43-.59-.52 0-1.04.2-1.43.59L10.3 9.45l-7.72 7.72c-.78.78-.78 2.05 0 2.83L4 21.41c.39.39.9.59 1.41.59.51 0 1.02-.2 1.41-.59l7.78-7.78 2.81-2.81c.8-.78.8-2.07 0-2.86zM5.41 20L4 18.59l7.72-7.72 1.47 1.35L5.41 20z\"/>\n",
              "  </svg>\n",
              "      </button>\n",
              "      \n",
              "  <style>\n",
              "    .colab-df-container {\n",
              "      display:flex;\n",
              "      flex-wrap:wrap;\n",
              "      gap: 12px;\n",
              "    }\n",
              "\n",
              "    .colab-df-convert {\n",
              "      background-color: #E8F0FE;\n",
              "      border: none;\n",
              "      border-radius: 50%;\n",
              "      cursor: pointer;\n",
              "      display: none;\n",
              "      fill: #1967D2;\n",
              "      height: 32px;\n",
              "      padding: 0 0 0 0;\n",
              "      width: 32px;\n",
              "    }\n",
              "\n",
              "    .colab-df-convert:hover {\n",
              "      background-color: #E2EBFA;\n",
              "      box-shadow: 0px 1px 2px rgba(60, 64, 67, 0.3), 0px 1px 3px 1px rgba(60, 64, 67, 0.15);\n",
              "      fill: #174EA6;\n",
              "    }\n",
              "\n",
              "    [theme=dark] .colab-df-convert {\n",
              "      background-color: #3B4455;\n",
              "      fill: #D2E3FC;\n",
              "    }\n",
              "\n",
              "    [theme=dark] .colab-df-convert:hover {\n",
              "      background-color: #434B5C;\n",
              "      box-shadow: 0px 1px 3px 1px rgba(0, 0, 0, 0.15);\n",
              "      filter: drop-shadow(0px 1px 2px rgba(0, 0, 0, 0.3));\n",
              "      fill: #FFFFFF;\n",
              "    }\n",
              "  </style>\n",
              "\n",
              "      <script>\n",
              "        const buttonEl =\n",
              "          document.querySelector('#df-eccd347f-7ec4-4116-92a7-10fe2ebf4a84 button.colab-df-convert');\n",
              "        buttonEl.style.display =\n",
              "          google.colab.kernel.accessAllowed ? 'block' : 'none';\n",
              "\n",
              "        async function convertToInteractive(key) {\n",
              "          const element = document.querySelector('#df-eccd347f-7ec4-4116-92a7-10fe2ebf4a84');\n",
              "          const dataTable =\n",
              "            await google.colab.kernel.invokeFunction('convertToInteractive',\n",
              "                                                     [key], {});\n",
              "          if (!dataTable) return;\n",
              "\n",
              "          const docLinkHtml = 'Like what you see? Visit the ' +\n",
              "            '<a target=\"_blank\" href=https://colab.research.google.com/notebooks/data_table.ipynb>data table notebook</a>'\n",
              "            + ' to learn more about interactive tables.';\n",
              "          element.innerHTML = '';\n",
              "          dataTable['output_type'] = 'display_data';\n",
              "          await google.colab.output.renderOutput(dataTable, element);\n",
              "          const docLink = document.createElement('div');\n",
              "          docLink.innerHTML = docLinkHtml;\n",
              "          element.appendChild(docLink);\n",
              "        }\n",
              "      </script>\n",
              "    </div>\n",
              "  </div>\n",
              "  "
            ]
          },
          "metadata": {},
          "execution_count": 74
        }
      ]
    },
    {
      "cell_type": "markdown",
      "source": [
        "7- A la resolucion anterior se la guarda en una variable **valor** para poder usarla, en los nuevos atributos de la tabla que vamos a crear para poder manipular los datos"
      ],
      "metadata": {
        "id": "Fng07TJt4OWE"
      }
    },
    {
      "cell_type": "code",
      "source": [
        "\n",
        "valor = inmuebles.Valor.str.split(expand=True)\n",
        "inmuebles['Moneda'] = valor[0]\n",
        "inmuebles['Precio'] = valor[1]\n",
        "inmuebles.sample(3)"
      ],
      "metadata": {
        "colab": {
          "base_uri": "https://localhost:8080/",
          "height": 240
        },
        "id": "NxF0HoK93XX-",
        "outputId": "25162898-5270-4992-bc2e-e2ebadfd0ad4"
      },
      "execution_count": 75,
      "outputs": [
        {
          "output_type": "execute_result",
          "data": {
            "text/plain": [
              "             Tipo                      Descripcion  Habitaciones  Banos  Area  \\\n",
              "9383         Casa         Casa en venta en Kennedy             3      2   165   \n",
              "6377  Apartamento  Apartamento en venta en Usaquén             3      2    99   \n",
              "4154  Apartamento  Apartamento en venta en Kennedy             3      2    51   \n",
              "\n",
              "       Barrio              UPZ          Valor Moneda       Precio  \n",
              "9383  Kennedy  Kennedy Central  $ 300.000.000      $  300.000.000  \n",
              "6377  Usaquén          Usaquén  $ 440.000.000      $  440.000.000  \n",
              "4154  Kennedy  Kennedy Central  $ 165.000.000      $  165.000.000  "
            ],
            "text/html": [
              "\n",
              "  <div id=\"df-10211cd6-81b9-4534-8011-82c243d7a65d\">\n",
              "    <div class=\"colab-df-container\">\n",
              "      <div>\n",
              "<style scoped>\n",
              "    .dataframe tbody tr th:only-of-type {\n",
              "        vertical-align: middle;\n",
              "    }\n",
              "\n",
              "    .dataframe tbody tr th {\n",
              "        vertical-align: top;\n",
              "    }\n",
              "\n",
              "    .dataframe thead th {\n",
              "        text-align: right;\n",
              "    }\n",
              "</style>\n",
              "<table border=\"1\" class=\"dataframe\">\n",
              "  <thead>\n",
              "    <tr style=\"text-align: right;\">\n",
              "      <th></th>\n",
              "      <th>Tipo</th>\n",
              "      <th>Descripcion</th>\n",
              "      <th>Habitaciones</th>\n",
              "      <th>Banos</th>\n",
              "      <th>Area</th>\n",
              "      <th>Barrio</th>\n",
              "      <th>UPZ</th>\n",
              "      <th>Valor</th>\n",
              "      <th>Moneda</th>\n",
              "      <th>Precio</th>\n",
              "    </tr>\n",
              "  </thead>\n",
              "  <tbody>\n",
              "    <tr>\n",
              "      <th>9383</th>\n",
              "      <td>Casa</td>\n",
              "      <td>Casa en venta en Kennedy</td>\n",
              "      <td>3</td>\n",
              "      <td>2</td>\n",
              "      <td>165</td>\n",
              "      <td>Kennedy</td>\n",
              "      <td>Kennedy Central</td>\n",
              "      <td>$ 300.000.000</td>\n",
              "      <td>$</td>\n",
              "      <td>300.000.000</td>\n",
              "    </tr>\n",
              "    <tr>\n",
              "      <th>6377</th>\n",
              "      <td>Apartamento</td>\n",
              "      <td>Apartamento en venta en Usaquén</td>\n",
              "      <td>3</td>\n",
              "      <td>2</td>\n",
              "      <td>99</td>\n",
              "      <td>Usaquén</td>\n",
              "      <td>Usaquén</td>\n",
              "      <td>$ 440.000.000</td>\n",
              "      <td>$</td>\n",
              "      <td>440.000.000</td>\n",
              "    </tr>\n",
              "    <tr>\n",
              "      <th>4154</th>\n",
              "      <td>Apartamento</td>\n",
              "      <td>Apartamento en venta en Kennedy</td>\n",
              "      <td>3</td>\n",
              "      <td>2</td>\n",
              "      <td>51</td>\n",
              "      <td>Kennedy</td>\n",
              "      <td>Kennedy Central</td>\n",
              "      <td>$ 165.000.000</td>\n",
              "      <td>$</td>\n",
              "      <td>165.000.000</td>\n",
              "    </tr>\n",
              "  </tbody>\n",
              "</table>\n",
              "</div>\n",
              "      <button class=\"colab-df-convert\" onclick=\"convertToInteractive('df-10211cd6-81b9-4534-8011-82c243d7a65d')\"\n",
              "              title=\"Convert this dataframe to an interactive table.\"\n",
              "              style=\"display:none;\">\n",
              "        \n",
              "  <svg xmlns=\"http://www.w3.org/2000/svg\" height=\"24px\"viewBox=\"0 0 24 24\"\n",
              "       width=\"24px\">\n",
              "    <path d=\"M0 0h24v24H0V0z\" fill=\"none\"/>\n",
              "    <path d=\"M18.56 5.44l.94 2.06.94-2.06 2.06-.94-2.06-.94-.94-2.06-.94 2.06-2.06.94zm-11 1L8.5 8.5l.94-2.06 2.06-.94-2.06-.94L8.5 2.5l-.94 2.06-2.06.94zm10 10l.94 2.06.94-2.06 2.06-.94-2.06-.94-.94-2.06-.94 2.06-2.06.94z\"/><path d=\"M17.41 7.96l-1.37-1.37c-.4-.4-.92-.59-1.43-.59-.52 0-1.04.2-1.43.59L10.3 9.45l-7.72 7.72c-.78.78-.78 2.05 0 2.83L4 21.41c.39.39.9.59 1.41.59.51 0 1.02-.2 1.41-.59l7.78-7.78 2.81-2.81c.8-.78.8-2.07 0-2.86zM5.41 20L4 18.59l7.72-7.72 1.47 1.35L5.41 20z\"/>\n",
              "  </svg>\n",
              "      </button>\n",
              "      \n",
              "  <style>\n",
              "    .colab-df-container {\n",
              "      display:flex;\n",
              "      flex-wrap:wrap;\n",
              "      gap: 12px;\n",
              "    }\n",
              "\n",
              "    .colab-df-convert {\n",
              "      background-color: #E8F0FE;\n",
              "      border: none;\n",
              "      border-radius: 50%;\n",
              "      cursor: pointer;\n",
              "      display: none;\n",
              "      fill: #1967D2;\n",
              "      height: 32px;\n",
              "      padding: 0 0 0 0;\n",
              "      width: 32px;\n",
              "    }\n",
              "\n",
              "    .colab-df-convert:hover {\n",
              "      background-color: #E2EBFA;\n",
              "      box-shadow: 0px 1px 2px rgba(60, 64, 67, 0.3), 0px 1px 3px 1px rgba(60, 64, 67, 0.15);\n",
              "      fill: #174EA6;\n",
              "    }\n",
              "\n",
              "    [theme=dark] .colab-df-convert {\n",
              "      background-color: #3B4455;\n",
              "      fill: #D2E3FC;\n",
              "    }\n",
              "\n",
              "    [theme=dark] .colab-df-convert:hover {\n",
              "      background-color: #434B5C;\n",
              "      box-shadow: 0px 1px 3px 1px rgba(0, 0, 0, 0.15);\n",
              "      filter: drop-shadow(0px 1px 2px rgba(0, 0, 0, 0.3));\n",
              "      fill: #FFFFFF;\n",
              "    }\n",
              "  </style>\n",
              "\n",
              "      <script>\n",
              "        const buttonEl =\n",
              "          document.querySelector('#df-10211cd6-81b9-4534-8011-82c243d7a65d button.colab-df-convert');\n",
              "        buttonEl.style.display =\n",
              "          google.colab.kernel.accessAllowed ? 'block' : 'none';\n",
              "\n",
              "        async function convertToInteractive(key) {\n",
              "          const element = document.querySelector('#df-10211cd6-81b9-4534-8011-82c243d7a65d');\n",
              "          const dataTable =\n",
              "            await google.colab.kernel.invokeFunction('convertToInteractive',\n",
              "                                                     [key], {});\n",
              "          if (!dataTable) return;\n",
              "\n",
              "          const docLinkHtml = 'Like what you see? Visit the ' +\n",
              "            '<a target=\"_blank\" href=https://colab.research.google.com/notebooks/data_table.ipynb>data table notebook</a>'\n",
              "            + ' to learn more about interactive tables.';\n",
              "          element.innerHTML = '';\n",
              "          dataTable['output_type'] = 'display_data';\n",
              "          await google.colab.output.renderOutput(dataTable, element);\n",
              "          const docLink = document.createElement('div');\n",
              "          docLink.innerHTML = docLinkHtml;\n",
              "          element.appendChild(docLink);\n",
              "        }\n",
              "      </script>\n",
              "    </div>\n",
              "  </div>\n",
              "  "
            ]
          },
          "metadata": {},
          "execution_count": 75
        }
      ]
    },
    {
      "cell_type": "markdown",
      "source": [
        "8- ahora llego el momento de reemplazar los puntos separadores de decimales para poder convertir los string a numeros."
      ],
      "metadata": {
        "id": "srlQ7Arj9kVH"
      }
    },
    {
      "cell_type": "code",
      "source": [
        "inmuebles['Precio'] = inmuebles['Precio'].str.replace('.','',regex=True)"
      ],
      "metadata": {
        "id": "lrf2XVgU-Tb4"
      },
      "execution_count": 76,
      "outputs": []
    },
    {
      "cell_type": "code",
      "source": [
        "inmuebles[['Precio','Barrio']]"
      ],
      "metadata": {
        "colab": {
          "base_uri": "https://localhost:8080/",
          "height": 424
        },
        "id": "06VNqEf2-UmR",
        "outputId": "f08cb3e0-f55d-42d1-994c-bd758cb3b46e"
      },
      "execution_count": 77,
      "outputs": [
        {
          "output_type": "execute_result",
          "data": {
            "text/plain": [
              "          Precio                  Barrio\n",
              "0      360000000      Zona Noroccidental\n",
              "1      670000000                Castilla\n",
              "2     1120000000         Chico Reservado\n",
              "3      890000000                 Usaquén\n",
              "4      970000000             Bella Suiza\n",
              "...          ...                     ...\n",
              "9515   290000000                 Kennedy\n",
              "9516   670000000  Parque Central Bavaria\n",
              "9517   900000000                Restrepo\n",
              "9518   335000000                Engativa\n",
              "9519   144990000                 Tintala\n",
              "\n",
              "[9520 rows x 2 columns]"
            ],
            "text/html": [
              "\n",
              "  <div id=\"df-bbd7ea59-96b9-46cc-82e7-f9d42ae90091\">\n",
              "    <div class=\"colab-df-container\">\n",
              "      <div>\n",
              "<style scoped>\n",
              "    .dataframe tbody tr th:only-of-type {\n",
              "        vertical-align: middle;\n",
              "    }\n",
              "\n",
              "    .dataframe tbody tr th {\n",
              "        vertical-align: top;\n",
              "    }\n",
              "\n",
              "    .dataframe thead th {\n",
              "        text-align: right;\n",
              "    }\n",
              "</style>\n",
              "<table border=\"1\" class=\"dataframe\">\n",
              "  <thead>\n",
              "    <tr style=\"text-align: right;\">\n",
              "      <th></th>\n",
              "      <th>Precio</th>\n",
              "      <th>Barrio</th>\n",
              "    </tr>\n",
              "  </thead>\n",
              "  <tbody>\n",
              "    <tr>\n",
              "      <th>0</th>\n",
              "      <td>360000000</td>\n",
              "      <td>Zona Noroccidental</td>\n",
              "    </tr>\n",
              "    <tr>\n",
              "      <th>1</th>\n",
              "      <td>670000000</td>\n",
              "      <td>Castilla</td>\n",
              "    </tr>\n",
              "    <tr>\n",
              "      <th>2</th>\n",
              "      <td>1120000000</td>\n",
              "      <td>Chico Reservado</td>\n",
              "    </tr>\n",
              "    <tr>\n",
              "      <th>3</th>\n",
              "      <td>890000000</td>\n",
              "      <td>Usaquén</td>\n",
              "    </tr>\n",
              "    <tr>\n",
              "      <th>4</th>\n",
              "      <td>970000000</td>\n",
              "      <td>Bella Suiza</td>\n",
              "    </tr>\n",
              "    <tr>\n",
              "      <th>...</th>\n",
              "      <td>...</td>\n",
              "      <td>...</td>\n",
              "    </tr>\n",
              "    <tr>\n",
              "      <th>9515</th>\n",
              "      <td>290000000</td>\n",
              "      <td>Kennedy</td>\n",
              "    </tr>\n",
              "    <tr>\n",
              "      <th>9516</th>\n",
              "      <td>670000000</td>\n",
              "      <td>Parque Central Bavaria</td>\n",
              "    </tr>\n",
              "    <tr>\n",
              "      <th>9517</th>\n",
              "      <td>900000000</td>\n",
              "      <td>Restrepo</td>\n",
              "    </tr>\n",
              "    <tr>\n",
              "      <th>9518</th>\n",
              "      <td>335000000</td>\n",
              "      <td>Engativa</td>\n",
              "    </tr>\n",
              "    <tr>\n",
              "      <th>9519</th>\n",
              "      <td>144990000</td>\n",
              "      <td>Tintala</td>\n",
              "    </tr>\n",
              "  </tbody>\n",
              "</table>\n",
              "<p>9520 rows × 2 columns</p>\n",
              "</div>\n",
              "      <button class=\"colab-df-convert\" onclick=\"convertToInteractive('df-bbd7ea59-96b9-46cc-82e7-f9d42ae90091')\"\n",
              "              title=\"Convert this dataframe to an interactive table.\"\n",
              "              style=\"display:none;\">\n",
              "        \n",
              "  <svg xmlns=\"http://www.w3.org/2000/svg\" height=\"24px\"viewBox=\"0 0 24 24\"\n",
              "       width=\"24px\">\n",
              "    <path d=\"M0 0h24v24H0V0z\" fill=\"none\"/>\n",
              "    <path d=\"M18.56 5.44l.94 2.06.94-2.06 2.06-.94-2.06-.94-.94-2.06-.94 2.06-2.06.94zm-11 1L8.5 8.5l.94-2.06 2.06-.94-2.06-.94L8.5 2.5l-.94 2.06-2.06.94zm10 10l.94 2.06.94-2.06 2.06-.94-2.06-.94-.94-2.06-.94 2.06-2.06.94z\"/><path d=\"M17.41 7.96l-1.37-1.37c-.4-.4-.92-.59-1.43-.59-.52 0-1.04.2-1.43.59L10.3 9.45l-7.72 7.72c-.78.78-.78 2.05 0 2.83L4 21.41c.39.39.9.59 1.41.59.51 0 1.02-.2 1.41-.59l7.78-7.78 2.81-2.81c.8-.78.8-2.07 0-2.86zM5.41 20L4 18.59l7.72-7.72 1.47 1.35L5.41 20z\"/>\n",
              "  </svg>\n",
              "      </button>\n",
              "      \n",
              "  <style>\n",
              "    .colab-df-container {\n",
              "      display:flex;\n",
              "      flex-wrap:wrap;\n",
              "      gap: 12px;\n",
              "    }\n",
              "\n",
              "    .colab-df-convert {\n",
              "      background-color: #E8F0FE;\n",
              "      border: none;\n",
              "      border-radius: 50%;\n",
              "      cursor: pointer;\n",
              "      display: none;\n",
              "      fill: #1967D2;\n",
              "      height: 32px;\n",
              "      padding: 0 0 0 0;\n",
              "      width: 32px;\n",
              "    }\n",
              "\n",
              "    .colab-df-convert:hover {\n",
              "      background-color: #E2EBFA;\n",
              "      box-shadow: 0px 1px 2px rgba(60, 64, 67, 0.3), 0px 1px 3px 1px rgba(60, 64, 67, 0.15);\n",
              "      fill: #174EA6;\n",
              "    }\n",
              "\n",
              "    [theme=dark] .colab-df-convert {\n",
              "      background-color: #3B4455;\n",
              "      fill: #D2E3FC;\n",
              "    }\n",
              "\n",
              "    [theme=dark] .colab-df-convert:hover {\n",
              "      background-color: #434B5C;\n",
              "      box-shadow: 0px 1px 3px 1px rgba(0, 0, 0, 0.15);\n",
              "      filter: drop-shadow(0px 1px 2px rgba(0, 0, 0, 0.3));\n",
              "      fill: #FFFFFF;\n",
              "    }\n",
              "  </style>\n",
              "\n",
              "      <script>\n",
              "        const buttonEl =\n",
              "          document.querySelector('#df-bbd7ea59-96b9-46cc-82e7-f9d42ae90091 button.colab-df-convert');\n",
              "        buttonEl.style.display =\n",
              "          google.colab.kernel.accessAllowed ? 'block' : 'none';\n",
              "\n",
              "        async function convertToInteractive(key) {\n",
              "          const element = document.querySelector('#df-bbd7ea59-96b9-46cc-82e7-f9d42ae90091');\n",
              "          const dataTable =\n",
              "            await google.colab.kernel.invokeFunction('convertToInteractive',\n",
              "                                                     [key], {});\n",
              "          if (!dataTable) return;\n",
              "\n",
              "          const docLinkHtml = 'Like what you see? Visit the ' +\n",
              "            '<a target=\"_blank\" href=https://colab.research.google.com/notebooks/data_table.ipynb>data table notebook</a>'\n",
              "            + ' to learn more about interactive tables.';\n",
              "          element.innerHTML = '';\n",
              "          dataTable['output_type'] = 'display_data';\n",
              "          await google.colab.output.renderOutput(dataTable, element);\n",
              "          const docLink = document.createElement('div');\n",
              "          docLink.innerHTML = docLinkHtml;\n",
              "          element.appendChild(docLink);\n",
              "        }\n",
              "      </script>\n",
              "    </div>\n",
              "  </div>\n",
              "  "
            ]
          },
          "metadata": {},
          "execution_count": 77
        }
      ]
    },
    {
      "cell_type": "markdown",
      "source": [
        "9- ahora llego el momento de transformar el datatype del objeto **Precio**"
      ],
      "metadata": {
        "id": "xB2trIHa_9ns"
      }
    },
    {
      "cell_type": "code",
      "source": [
        "inmuebles['Precio_Millon'] = inmuebles.Precio.astype('float')/1000000\n",
        "inmuebles.info()"
      ],
      "metadata": {
        "colab": {
          "base_uri": "https://localhost:8080/"
        },
        "id": "P-kIZfE5BKDw",
        "outputId": "58145617-1106-4b90-db49-e0f8c7d30c10"
      },
      "execution_count": 78,
      "outputs": [
        {
          "output_type": "stream",
          "name": "stdout",
          "text": [
            "<class 'pandas.core.frame.DataFrame'>\n",
            "RangeIndex: 9520 entries, 0 to 9519\n",
            "Data columns (total 11 columns):\n",
            " #   Column         Non-Null Count  Dtype  \n",
            "---  ------         --------------  -----  \n",
            " 0   Tipo           9520 non-null   object \n",
            " 1   Descripcion    9520 non-null   object \n",
            " 2   Habitaciones   9520 non-null   int64  \n",
            " 3   Banos          9520 non-null   int64  \n",
            " 4   Area           9520 non-null   int64  \n",
            " 5   Barrio         9520 non-null   object \n",
            " 6   UPZ            9478 non-null   object \n",
            " 7   Valor          9520 non-null   object \n",
            " 8   Moneda         9520 non-null   object \n",
            " 9   Precio         9520 non-null   object \n",
            " 10  Precio_Millon  9520 non-null   float64\n",
            "dtypes: float64(1), int64(3), object(7)\n",
            "memory usage: 818.2+ KB\n"
          ]
        }
      ]
    },
    {
      "cell_type": "markdown",
      "source": [
        "10- ahora  vamos a usar **.describe** que es un método que utiliza Pandas para obtener estadísticas descriptivas de un DataFrame."
      ],
      "metadata": {
        "id": "Oc96FvOfB0CY"
      }
    },
    {
      "cell_type": "code",
      "source": [
        "\n",
        "inmuebles.describe()"
      ],
      "metadata": {
        "colab": {
          "base_uri": "https://localhost:8080/",
          "height": 300
        },
        "id": "IMd9VRV2ChYR",
        "outputId": "fa375696-0c99-4a83-8d05-9104b1393a6c"
      },
      "execution_count": 27,
      "outputs": [
        {
          "output_type": "execute_result",
          "data": {
            "text/plain": [
              "       Habitaciones        Banos           Area  Precio_Millon\n",
              "count   9520.000000  9520.000000    9520.000000    9520.000000\n",
              "mean       3.072479     2.447899     146.664706     602.062354\n",
              "std        2.049856     1.255314    1731.379622     704.602062\n",
              "min        1.000000     0.000000       2.000000      60.000000\n",
              "25%        2.000000     2.000000      57.000000     250.000000\n",
              "50%        3.000000     2.000000      80.000000     409.182500\n",
              "75%        3.000000     3.000000     135.000000     680.000000\n",
              "max      110.000000     9.000000  166243.000000   16000.000000"
            ],
            "text/html": [
              "\n",
              "  <div id=\"df-04103dda-c3a4-432e-988f-42d254a50a2b\">\n",
              "    <div class=\"colab-df-container\">\n",
              "      <div>\n",
              "<style scoped>\n",
              "    .dataframe tbody tr th:only-of-type {\n",
              "        vertical-align: middle;\n",
              "    }\n",
              "\n",
              "    .dataframe tbody tr th {\n",
              "        vertical-align: top;\n",
              "    }\n",
              "\n",
              "    .dataframe thead th {\n",
              "        text-align: right;\n",
              "    }\n",
              "</style>\n",
              "<table border=\"1\" class=\"dataframe\">\n",
              "  <thead>\n",
              "    <tr style=\"text-align: right;\">\n",
              "      <th></th>\n",
              "      <th>Habitaciones</th>\n",
              "      <th>Banos</th>\n",
              "      <th>Area</th>\n",
              "      <th>Precio_Millon</th>\n",
              "    </tr>\n",
              "  </thead>\n",
              "  <tbody>\n",
              "    <tr>\n",
              "      <th>count</th>\n",
              "      <td>9520.000000</td>\n",
              "      <td>9520.000000</td>\n",
              "      <td>9520.000000</td>\n",
              "      <td>9520.000000</td>\n",
              "    </tr>\n",
              "    <tr>\n",
              "      <th>mean</th>\n",
              "      <td>3.072479</td>\n",
              "      <td>2.447899</td>\n",
              "      <td>146.664706</td>\n",
              "      <td>602.062354</td>\n",
              "    </tr>\n",
              "    <tr>\n",
              "      <th>std</th>\n",
              "      <td>2.049856</td>\n",
              "      <td>1.255314</td>\n",
              "      <td>1731.379622</td>\n",
              "      <td>704.602062</td>\n",
              "    </tr>\n",
              "    <tr>\n",
              "      <th>min</th>\n",
              "      <td>1.000000</td>\n",
              "      <td>0.000000</td>\n",
              "      <td>2.000000</td>\n",
              "      <td>60.000000</td>\n",
              "    </tr>\n",
              "    <tr>\n",
              "      <th>25%</th>\n",
              "      <td>2.000000</td>\n",
              "      <td>2.000000</td>\n",
              "      <td>57.000000</td>\n",
              "      <td>250.000000</td>\n",
              "    </tr>\n",
              "    <tr>\n",
              "      <th>50%</th>\n",
              "      <td>3.000000</td>\n",
              "      <td>2.000000</td>\n",
              "      <td>80.000000</td>\n",
              "      <td>409.182500</td>\n",
              "    </tr>\n",
              "    <tr>\n",
              "      <th>75%</th>\n",
              "      <td>3.000000</td>\n",
              "      <td>3.000000</td>\n",
              "      <td>135.000000</td>\n",
              "      <td>680.000000</td>\n",
              "    </tr>\n",
              "    <tr>\n",
              "      <th>max</th>\n",
              "      <td>110.000000</td>\n",
              "      <td>9.000000</td>\n",
              "      <td>166243.000000</td>\n",
              "      <td>16000.000000</td>\n",
              "    </tr>\n",
              "  </tbody>\n",
              "</table>\n",
              "</div>\n",
              "      <button class=\"colab-df-convert\" onclick=\"convertToInteractive('df-04103dda-c3a4-432e-988f-42d254a50a2b')\"\n",
              "              title=\"Convert this dataframe to an interactive table.\"\n",
              "              style=\"display:none;\">\n",
              "        \n",
              "  <svg xmlns=\"http://www.w3.org/2000/svg\" height=\"24px\"viewBox=\"0 0 24 24\"\n",
              "       width=\"24px\">\n",
              "    <path d=\"M0 0h24v24H0V0z\" fill=\"none\"/>\n",
              "    <path d=\"M18.56 5.44l.94 2.06.94-2.06 2.06-.94-2.06-.94-.94-2.06-.94 2.06-2.06.94zm-11 1L8.5 8.5l.94-2.06 2.06-.94-2.06-.94L8.5 2.5l-.94 2.06-2.06.94zm10 10l.94 2.06.94-2.06 2.06-.94-2.06-.94-.94-2.06-.94 2.06-2.06.94z\"/><path d=\"M17.41 7.96l-1.37-1.37c-.4-.4-.92-.59-1.43-.59-.52 0-1.04.2-1.43.59L10.3 9.45l-7.72 7.72c-.78.78-.78 2.05 0 2.83L4 21.41c.39.39.9.59 1.41.59.51 0 1.02-.2 1.41-.59l7.78-7.78 2.81-2.81c.8-.78.8-2.07 0-2.86zM5.41 20L4 18.59l7.72-7.72 1.47 1.35L5.41 20z\"/>\n",
              "  </svg>\n",
              "      </button>\n",
              "      \n",
              "  <style>\n",
              "    .colab-df-container {\n",
              "      display:flex;\n",
              "      flex-wrap:wrap;\n",
              "      gap: 12px;\n",
              "    }\n",
              "\n",
              "    .colab-df-convert {\n",
              "      background-color: #E8F0FE;\n",
              "      border: none;\n",
              "      border-radius: 50%;\n",
              "      cursor: pointer;\n",
              "      display: none;\n",
              "      fill: #1967D2;\n",
              "      height: 32px;\n",
              "      padding: 0 0 0 0;\n",
              "      width: 32px;\n",
              "    }\n",
              "\n",
              "    .colab-df-convert:hover {\n",
              "      background-color: #E2EBFA;\n",
              "      box-shadow: 0px 1px 2px rgba(60, 64, 67, 0.3), 0px 1px 3px 1px rgba(60, 64, 67, 0.15);\n",
              "      fill: #174EA6;\n",
              "    }\n",
              "\n",
              "    [theme=dark] .colab-df-convert {\n",
              "      background-color: #3B4455;\n",
              "      fill: #D2E3FC;\n",
              "    }\n",
              "\n",
              "    [theme=dark] .colab-df-convert:hover {\n",
              "      background-color: #434B5C;\n",
              "      box-shadow: 0px 1px 3px 1px rgba(0, 0, 0, 0.15);\n",
              "      filter: drop-shadow(0px 1px 2px rgba(0, 0, 0, 0.3));\n",
              "      fill: #FFFFFF;\n",
              "    }\n",
              "  </style>\n",
              "\n",
              "      <script>\n",
              "        const buttonEl =\n",
              "          document.querySelector('#df-04103dda-c3a4-432e-988f-42d254a50a2b button.colab-df-convert');\n",
              "        buttonEl.style.display =\n",
              "          google.colab.kernel.accessAllowed ? 'block' : 'none';\n",
              "\n",
              "        async function convertToInteractive(key) {\n",
              "          const element = document.querySelector('#df-04103dda-c3a4-432e-988f-42d254a50a2b');\n",
              "          const dataTable =\n",
              "            await google.colab.kernel.invokeFunction('convertToInteractive',\n",
              "                                                     [key], {});\n",
              "          if (!dataTable) return;\n",
              "\n",
              "          const docLinkHtml = 'Like what you see? Visit the ' +\n",
              "            '<a target=\"_blank\" href=https://colab.research.google.com/notebooks/data_table.ipynb>data table notebook</a>'\n",
              "            + ' to learn more about interactive tables.';\n",
              "          element.innerHTML = '';\n",
              "          dataTable['output_type'] = 'display_data';\n",
              "          await google.colab.output.renderOutput(dataTable, element);\n",
              "          const docLink = document.createElement('div');\n",
              "          docLink.innerHTML = docLinkHtml;\n",
              "          element.appendChild(docLink);\n",
              "        }\n",
              "      </script>\n",
              "    </div>\n",
              "  </div>\n",
              "  "
            ]
          },
          "metadata": {},
          "execution_count": 27
        }
      ]
    },
    {
      "cell_type": "markdown",
      "source": [
        "11- ahora vamos a eliminar posiciones decimales para agilizar la lectura de los datos."
      ],
      "metadata": {
        "id": "QFxgcyNxCqse"
      }
    },
    {
      "cell_type": "code",
      "source": [
        "\n",
        "pd.set_option('display.precision',2)\n",
        "pd.set_option('display.float_format', lambda x: '%.2f' % x)\n",
        "inmuebles.describe()\n",
        "     "
      ],
      "metadata": {
        "colab": {
          "base_uri": "https://localhost:8080/",
          "height": 300
        },
        "id": "JDDaXX4RCxrS",
        "outputId": "b9b6b689-ffba-4b59-c790-2858b398d979"
      },
      "execution_count": 79,
      "outputs": [
        {
          "output_type": "execute_result",
          "data": {
            "text/plain": [
              "       Habitaciones   Banos      Area  Precio_Millon\n",
              "count       9520.00 9520.00   9520.00        9520.00\n",
              "mean           3.07    2.45    146.66         602.06\n",
              "std            2.05    1.26   1731.38         704.60\n",
              "min            1.00    0.00      2.00          60.00\n",
              "25%            2.00    2.00     57.00         250.00\n",
              "50%            3.00    2.00     80.00         409.18\n",
              "75%            3.00    3.00    135.00         680.00\n",
              "max          110.00    9.00 166243.00       16000.00"
            ],
            "text/html": [
              "\n",
              "  <div id=\"df-ccd37455-7ba9-4bee-9e69-7b159f08f06a\">\n",
              "    <div class=\"colab-df-container\">\n",
              "      <div>\n",
              "<style scoped>\n",
              "    .dataframe tbody tr th:only-of-type {\n",
              "        vertical-align: middle;\n",
              "    }\n",
              "\n",
              "    .dataframe tbody tr th {\n",
              "        vertical-align: top;\n",
              "    }\n",
              "\n",
              "    .dataframe thead th {\n",
              "        text-align: right;\n",
              "    }\n",
              "</style>\n",
              "<table border=\"1\" class=\"dataframe\">\n",
              "  <thead>\n",
              "    <tr style=\"text-align: right;\">\n",
              "      <th></th>\n",
              "      <th>Habitaciones</th>\n",
              "      <th>Banos</th>\n",
              "      <th>Area</th>\n",
              "      <th>Precio_Millon</th>\n",
              "    </tr>\n",
              "  </thead>\n",
              "  <tbody>\n",
              "    <tr>\n",
              "      <th>count</th>\n",
              "      <td>9520.00</td>\n",
              "      <td>9520.00</td>\n",
              "      <td>9520.00</td>\n",
              "      <td>9520.00</td>\n",
              "    </tr>\n",
              "    <tr>\n",
              "      <th>mean</th>\n",
              "      <td>3.07</td>\n",
              "      <td>2.45</td>\n",
              "      <td>146.66</td>\n",
              "      <td>602.06</td>\n",
              "    </tr>\n",
              "    <tr>\n",
              "      <th>std</th>\n",
              "      <td>2.05</td>\n",
              "      <td>1.26</td>\n",
              "      <td>1731.38</td>\n",
              "      <td>704.60</td>\n",
              "    </tr>\n",
              "    <tr>\n",
              "      <th>min</th>\n",
              "      <td>1.00</td>\n",
              "      <td>0.00</td>\n",
              "      <td>2.00</td>\n",
              "      <td>60.00</td>\n",
              "    </tr>\n",
              "    <tr>\n",
              "      <th>25%</th>\n",
              "      <td>2.00</td>\n",
              "      <td>2.00</td>\n",
              "      <td>57.00</td>\n",
              "      <td>250.00</td>\n",
              "    </tr>\n",
              "    <tr>\n",
              "      <th>50%</th>\n",
              "      <td>3.00</td>\n",
              "      <td>2.00</td>\n",
              "      <td>80.00</td>\n",
              "      <td>409.18</td>\n",
              "    </tr>\n",
              "    <tr>\n",
              "      <th>75%</th>\n",
              "      <td>3.00</td>\n",
              "      <td>3.00</td>\n",
              "      <td>135.00</td>\n",
              "      <td>680.00</td>\n",
              "    </tr>\n",
              "    <tr>\n",
              "      <th>max</th>\n",
              "      <td>110.00</td>\n",
              "      <td>9.00</td>\n",
              "      <td>166243.00</td>\n",
              "      <td>16000.00</td>\n",
              "    </tr>\n",
              "  </tbody>\n",
              "</table>\n",
              "</div>\n",
              "      <button class=\"colab-df-convert\" onclick=\"convertToInteractive('df-ccd37455-7ba9-4bee-9e69-7b159f08f06a')\"\n",
              "              title=\"Convert this dataframe to an interactive table.\"\n",
              "              style=\"display:none;\">\n",
              "        \n",
              "  <svg xmlns=\"http://www.w3.org/2000/svg\" height=\"24px\"viewBox=\"0 0 24 24\"\n",
              "       width=\"24px\">\n",
              "    <path d=\"M0 0h24v24H0V0z\" fill=\"none\"/>\n",
              "    <path d=\"M18.56 5.44l.94 2.06.94-2.06 2.06-.94-2.06-.94-.94-2.06-.94 2.06-2.06.94zm-11 1L8.5 8.5l.94-2.06 2.06-.94-2.06-.94L8.5 2.5l-.94 2.06-2.06.94zm10 10l.94 2.06.94-2.06 2.06-.94-2.06-.94-.94-2.06-.94 2.06-2.06.94z\"/><path d=\"M17.41 7.96l-1.37-1.37c-.4-.4-.92-.59-1.43-.59-.52 0-1.04.2-1.43.59L10.3 9.45l-7.72 7.72c-.78.78-.78 2.05 0 2.83L4 21.41c.39.39.9.59 1.41.59.51 0 1.02-.2 1.41-.59l7.78-7.78 2.81-2.81c.8-.78.8-2.07 0-2.86zM5.41 20L4 18.59l7.72-7.72 1.47 1.35L5.41 20z\"/>\n",
              "  </svg>\n",
              "      </button>\n",
              "      \n",
              "  <style>\n",
              "    .colab-df-container {\n",
              "      display:flex;\n",
              "      flex-wrap:wrap;\n",
              "      gap: 12px;\n",
              "    }\n",
              "\n",
              "    .colab-df-convert {\n",
              "      background-color: #E8F0FE;\n",
              "      border: none;\n",
              "      border-radius: 50%;\n",
              "      cursor: pointer;\n",
              "      display: none;\n",
              "      fill: #1967D2;\n",
              "      height: 32px;\n",
              "      padding: 0 0 0 0;\n",
              "      width: 32px;\n",
              "    }\n",
              "\n",
              "    .colab-df-convert:hover {\n",
              "      background-color: #E2EBFA;\n",
              "      box-shadow: 0px 1px 2px rgba(60, 64, 67, 0.3), 0px 1px 3px 1px rgba(60, 64, 67, 0.15);\n",
              "      fill: #174EA6;\n",
              "    }\n",
              "\n",
              "    [theme=dark] .colab-df-convert {\n",
              "      background-color: #3B4455;\n",
              "      fill: #D2E3FC;\n",
              "    }\n",
              "\n",
              "    [theme=dark] .colab-df-convert:hover {\n",
              "      background-color: #434B5C;\n",
              "      box-shadow: 0px 1px 3px 1px rgba(0, 0, 0, 0.15);\n",
              "      filter: drop-shadow(0px 1px 2px rgba(0, 0, 0, 0.3));\n",
              "      fill: #FFFFFF;\n",
              "    }\n",
              "  </style>\n",
              "\n",
              "      <script>\n",
              "        const buttonEl =\n",
              "          document.querySelector('#df-ccd37455-7ba9-4bee-9e69-7b159f08f06a button.colab-df-convert');\n",
              "        buttonEl.style.display =\n",
              "          google.colab.kernel.accessAllowed ? 'block' : 'none';\n",
              "\n",
              "        async function convertToInteractive(key) {\n",
              "          const element = document.querySelector('#df-ccd37455-7ba9-4bee-9e69-7b159f08f06a');\n",
              "          const dataTable =\n",
              "            await google.colab.kernel.invokeFunction('convertToInteractive',\n",
              "                                                     [key], {});\n",
              "          if (!dataTable) return;\n",
              "\n",
              "          const docLinkHtml = 'Like what you see? Visit the ' +\n",
              "            '<a target=\"_blank\" href=https://colab.research.google.com/notebooks/data_table.ipynb>data table notebook</a>'\n",
              "            + ' to learn more about interactive tables.';\n",
              "          element.innerHTML = '';\n",
              "          dataTable['output_type'] = 'display_data';\n",
              "          await google.colab.output.renderOutput(dataTable, element);\n",
              "          const docLink = document.createElement('div');\n",
              "          docLink.innerHTML = docLinkHtml;\n",
              "          element.appendChild(docLink);\n",
              "        }\n",
              "      </script>\n",
              "    </div>\n",
              "  </div>\n",
              "  "
            ]
          },
          "metadata": {},
          "execution_count": 79
        }
      ]
    },
    {
      "cell_type": "markdown",
      "source": [
        "12- con el metodo **.loc** se busca encontrar caracteristicas especificas dentro del dataframe"
      ],
      "metadata": {
        "id": "AXuSanWjDzXX"
      }
    },
    {
      "cell_type": "code",
      "source": [
        "inmuebles.loc[inmuebles.Habitaciones == 110]"
      ],
      "metadata": {
        "colab": {
          "base_uri": "https://localhost:8080/",
          "height": 142
        },
        "id": "8PpfHxYwDwJO",
        "outputId": "8bb27bd2-a59d-4c50-d535-1992df4ef38a"
      },
      "execution_count": 80,
      "outputs": [
        {
          "output_type": "execute_result",
          "data": {
            "text/plain": [
              "     Tipo                Descripcion  Habitaciones  Banos  Area    Barrio  \\\n",
              "897  Casa  Casa en venta en La Uribe           110      2   110  La Uribe   \n",
              "\n",
              "         UPZ          Valor Moneda     Precio  Precio_Millon  \n",
              "897  Usaquén  $ 480.000.000      $  480000000         480.00  "
            ],
            "text/html": [
              "\n",
              "  <div id=\"df-e60d7132-b13a-401e-a8ab-cb7e960c434b\">\n",
              "    <div class=\"colab-df-container\">\n",
              "      <div>\n",
              "<style scoped>\n",
              "    .dataframe tbody tr th:only-of-type {\n",
              "        vertical-align: middle;\n",
              "    }\n",
              "\n",
              "    .dataframe tbody tr th {\n",
              "        vertical-align: top;\n",
              "    }\n",
              "\n",
              "    .dataframe thead th {\n",
              "        text-align: right;\n",
              "    }\n",
              "</style>\n",
              "<table border=\"1\" class=\"dataframe\">\n",
              "  <thead>\n",
              "    <tr style=\"text-align: right;\">\n",
              "      <th></th>\n",
              "      <th>Tipo</th>\n",
              "      <th>Descripcion</th>\n",
              "      <th>Habitaciones</th>\n",
              "      <th>Banos</th>\n",
              "      <th>Area</th>\n",
              "      <th>Barrio</th>\n",
              "      <th>UPZ</th>\n",
              "      <th>Valor</th>\n",
              "      <th>Moneda</th>\n",
              "      <th>Precio</th>\n",
              "      <th>Precio_Millon</th>\n",
              "    </tr>\n",
              "  </thead>\n",
              "  <tbody>\n",
              "    <tr>\n",
              "      <th>897</th>\n",
              "      <td>Casa</td>\n",
              "      <td>Casa en venta en La Uribe</td>\n",
              "      <td>110</td>\n",
              "      <td>2</td>\n",
              "      <td>110</td>\n",
              "      <td>La Uribe</td>\n",
              "      <td>Usaquén</td>\n",
              "      <td>$ 480.000.000</td>\n",
              "      <td>$</td>\n",
              "      <td>480000000</td>\n",
              "      <td>480.00</td>\n",
              "    </tr>\n",
              "  </tbody>\n",
              "</table>\n",
              "</div>\n",
              "      <button class=\"colab-df-convert\" onclick=\"convertToInteractive('df-e60d7132-b13a-401e-a8ab-cb7e960c434b')\"\n",
              "              title=\"Convert this dataframe to an interactive table.\"\n",
              "              style=\"display:none;\">\n",
              "        \n",
              "  <svg xmlns=\"http://www.w3.org/2000/svg\" height=\"24px\"viewBox=\"0 0 24 24\"\n",
              "       width=\"24px\">\n",
              "    <path d=\"M0 0h24v24H0V0z\" fill=\"none\"/>\n",
              "    <path d=\"M18.56 5.44l.94 2.06.94-2.06 2.06-.94-2.06-.94-.94-2.06-.94 2.06-2.06.94zm-11 1L8.5 8.5l.94-2.06 2.06-.94-2.06-.94L8.5 2.5l-.94 2.06-2.06.94zm10 10l.94 2.06.94-2.06 2.06-.94-2.06-.94-.94-2.06-.94 2.06-2.06.94z\"/><path d=\"M17.41 7.96l-1.37-1.37c-.4-.4-.92-.59-1.43-.59-.52 0-1.04.2-1.43.59L10.3 9.45l-7.72 7.72c-.78.78-.78 2.05 0 2.83L4 21.41c.39.39.9.59 1.41.59.51 0 1.02-.2 1.41-.59l7.78-7.78 2.81-2.81c.8-.78.8-2.07 0-2.86zM5.41 20L4 18.59l7.72-7.72 1.47 1.35L5.41 20z\"/>\n",
              "  </svg>\n",
              "      </button>\n",
              "      \n",
              "  <style>\n",
              "    .colab-df-container {\n",
              "      display:flex;\n",
              "      flex-wrap:wrap;\n",
              "      gap: 12px;\n",
              "    }\n",
              "\n",
              "    .colab-df-convert {\n",
              "      background-color: #E8F0FE;\n",
              "      border: none;\n",
              "      border-radius: 50%;\n",
              "      cursor: pointer;\n",
              "      display: none;\n",
              "      fill: #1967D2;\n",
              "      height: 32px;\n",
              "      padding: 0 0 0 0;\n",
              "      width: 32px;\n",
              "    }\n",
              "\n",
              "    .colab-df-convert:hover {\n",
              "      background-color: #E2EBFA;\n",
              "      box-shadow: 0px 1px 2px rgba(60, 64, 67, 0.3), 0px 1px 3px 1px rgba(60, 64, 67, 0.15);\n",
              "      fill: #174EA6;\n",
              "    }\n",
              "\n",
              "    [theme=dark] .colab-df-convert {\n",
              "      background-color: #3B4455;\n",
              "      fill: #D2E3FC;\n",
              "    }\n",
              "\n",
              "    [theme=dark] .colab-df-convert:hover {\n",
              "      background-color: #434B5C;\n",
              "      box-shadow: 0px 1px 3px 1px rgba(0, 0, 0, 0.15);\n",
              "      filter: drop-shadow(0px 1px 2px rgba(0, 0, 0, 0.3));\n",
              "      fill: #FFFFFF;\n",
              "    }\n",
              "  </style>\n",
              "\n",
              "      <script>\n",
              "        const buttonEl =\n",
              "          document.querySelector('#df-e60d7132-b13a-401e-a8ab-cb7e960c434b button.colab-df-convert');\n",
              "        buttonEl.style.display =\n",
              "          google.colab.kernel.accessAllowed ? 'block' : 'none';\n",
              "\n",
              "        async function convertToInteractive(key) {\n",
              "          const element = document.querySelector('#df-e60d7132-b13a-401e-a8ab-cb7e960c434b');\n",
              "          const dataTable =\n",
              "            await google.colab.kernel.invokeFunction('convertToInteractive',\n",
              "                                                     [key], {});\n",
              "          if (!dataTable) return;\n",
              "\n",
              "          const docLinkHtml = 'Like what you see? Visit the ' +\n",
              "            '<a target=\"_blank\" href=https://colab.research.google.com/notebooks/data_table.ipynb>data table notebook</a>'\n",
              "            + ' to learn more about interactive tables.';\n",
              "          element.innerHTML = '';\n",
              "          dataTable['output_type'] = 'display_data';\n",
              "          await google.colab.output.renderOutput(dataTable, element);\n",
              "          const docLink = document.createElement('div');\n",
              "          docLink.innerHTML = docLinkHtml;\n",
              "          element.appendChild(docLink);\n",
              "        }\n",
              "      </script>\n",
              "    </div>\n",
              "  </div>\n",
              "  "
            ]
          },
          "metadata": {},
          "execution_count": 80
        }
      ]
    },
    {
      "cell_type": "code",
      "source": [
        "inmuebles.loc[inmuebles.Area == 2]\n"
      ],
      "metadata": {
        "colab": {
          "base_uri": "https://localhost:8080/",
          "height": 179
        },
        "id": "SpnZPcHcEKSO",
        "outputId": "4422c9e1-10ce-4700-913d-ca0f7e433d79"
      },
      "execution_count": 81,
      "outputs": [
        {
          "output_type": "execute_result",
          "data": {
            "text/plain": [
              "             Tipo                            Descripcion  Habitaciones  Banos  \\\n",
              "8401  Apartamento  Apartamento en venta en San Cristobal             3      1   \n",
              "\n",
              "      Area         Barrio      UPZ          Valor Moneda     Precio  \\\n",
              "8401     2  San Cristobal  Sosiego  $ 180.000.000      $  180000000   \n",
              "\n",
              "      Precio_Millon  \n",
              "8401         180.00  "
            ],
            "text/html": [
              "\n",
              "  <div id=\"df-29a2ea67-0e3f-4a4a-8d16-7ed0b60841ed\">\n",
              "    <div class=\"colab-df-container\">\n",
              "      <div>\n",
              "<style scoped>\n",
              "    .dataframe tbody tr th:only-of-type {\n",
              "        vertical-align: middle;\n",
              "    }\n",
              "\n",
              "    .dataframe tbody tr th {\n",
              "        vertical-align: top;\n",
              "    }\n",
              "\n",
              "    .dataframe thead th {\n",
              "        text-align: right;\n",
              "    }\n",
              "</style>\n",
              "<table border=\"1\" class=\"dataframe\">\n",
              "  <thead>\n",
              "    <tr style=\"text-align: right;\">\n",
              "      <th></th>\n",
              "      <th>Tipo</th>\n",
              "      <th>Descripcion</th>\n",
              "      <th>Habitaciones</th>\n",
              "      <th>Banos</th>\n",
              "      <th>Area</th>\n",
              "      <th>Barrio</th>\n",
              "      <th>UPZ</th>\n",
              "      <th>Valor</th>\n",
              "      <th>Moneda</th>\n",
              "      <th>Precio</th>\n",
              "      <th>Precio_Millon</th>\n",
              "    </tr>\n",
              "  </thead>\n",
              "  <tbody>\n",
              "    <tr>\n",
              "      <th>8401</th>\n",
              "      <td>Apartamento</td>\n",
              "      <td>Apartamento en venta en San Cristobal</td>\n",
              "      <td>3</td>\n",
              "      <td>1</td>\n",
              "      <td>2</td>\n",
              "      <td>San Cristobal</td>\n",
              "      <td>Sosiego</td>\n",
              "      <td>$ 180.000.000</td>\n",
              "      <td>$</td>\n",
              "      <td>180000000</td>\n",
              "      <td>180.00</td>\n",
              "    </tr>\n",
              "  </tbody>\n",
              "</table>\n",
              "</div>\n",
              "      <button class=\"colab-df-convert\" onclick=\"convertToInteractive('df-29a2ea67-0e3f-4a4a-8d16-7ed0b60841ed')\"\n",
              "              title=\"Convert this dataframe to an interactive table.\"\n",
              "              style=\"display:none;\">\n",
              "        \n",
              "  <svg xmlns=\"http://www.w3.org/2000/svg\" height=\"24px\"viewBox=\"0 0 24 24\"\n",
              "       width=\"24px\">\n",
              "    <path d=\"M0 0h24v24H0V0z\" fill=\"none\"/>\n",
              "    <path d=\"M18.56 5.44l.94 2.06.94-2.06 2.06-.94-2.06-.94-.94-2.06-.94 2.06-2.06.94zm-11 1L8.5 8.5l.94-2.06 2.06-.94-2.06-.94L8.5 2.5l-.94 2.06-2.06.94zm10 10l.94 2.06.94-2.06 2.06-.94-2.06-.94-.94-2.06-.94 2.06-2.06.94z\"/><path d=\"M17.41 7.96l-1.37-1.37c-.4-.4-.92-.59-1.43-.59-.52 0-1.04.2-1.43.59L10.3 9.45l-7.72 7.72c-.78.78-.78 2.05 0 2.83L4 21.41c.39.39.9.59 1.41.59.51 0 1.02-.2 1.41-.59l7.78-7.78 2.81-2.81c.8-.78.8-2.07 0-2.86zM5.41 20L4 18.59l7.72-7.72 1.47 1.35L5.41 20z\"/>\n",
              "  </svg>\n",
              "      </button>\n",
              "      \n",
              "  <style>\n",
              "    .colab-df-container {\n",
              "      display:flex;\n",
              "      flex-wrap:wrap;\n",
              "      gap: 12px;\n",
              "    }\n",
              "\n",
              "    .colab-df-convert {\n",
              "      background-color: #E8F0FE;\n",
              "      border: none;\n",
              "      border-radius: 50%;\n",
              "      cursor: pointer;\n",
              "      display: none;\n",
              "      fill: #1967D2;\n",
              "      height: 32px;\n",
              "      padding: 0 0 0 0;\n",
              "      width: 32px;\n",
              "    }\n",
              "\n",
              "    .colab-df-convert:hover {\n",
              "      background-color: #E2EBFA;\n",
              "      box-shadow: 0px 1px 2px rgba(60, 64, 67, 0.3), 0px 1px 3px 1px rgba(60, 64, 67, 0.15);\n",
              "      fill: #174EA6;\n",
              "    }\n",
              "\n",
              "    [theme=dark] .colab-df-convert {\n",
              "      background-color: #3B4455;\n",
              "      fill: #D2E3FC;\n",
              "    }\n",
              "\n",
              "    [theme=dark] .colab-df-convert:hover {\n",
              "      background-color: #434B5C;\n",
              "      box-shadow: 0px 1px 3px 1px rgba(0, 0, 0, 0.15);\n",
              "      filter: drop-shadow(0px 1px 2px rgba(0, 0, 0, 0.3));\n",
              "      fill: #FFFFFF;\n",
              "    }\n",
              "  </style>\n",
              "\n",
              "      <script>\n",
              "        const buttonEl =\n",
              "          document.querySelector('#df-29a2ea67-0e3f-4a4a-8d16-7ed0b60841ed button.colab-df-convert');\n",
              "        buttonEl.style.display =\n",
              "          google.colab.kernel.accessAllowed ? 'block' : 'none';\n",
              "\n",
              "        async function convertToInteractive(key) {\n",
              "          const element = document.querySelector('#df-29a2ea67-0e3f-4a4a-8d16-7ed0b60841ed');\n",
              "          const dataTable =\n",
              "            await google.colab.kernel.invokeFunction('convertToInteractive',\n",
              "                                                     [key], {});\n",
              "          if (!dataTable) return;\n",
              "\n",
              "          const docLinkHtml = 'Like what you see? Visit the ' +\n",
              "            '<a target=\"_blank\" href=https://colab.research.google.com/notebooks/data_table.ipynb>data table notebook</a>'\n",
              "            + ' to learn more about interactive tables.';\n",
              "          element.innerHTML = '';\n",
              "          dataTable['output_type'] = 'display_data';\n",
              "          await google.colab.output.renderOutput(dataTable, element);\n",
              "          const docLink = document.createElement('div');\n",
              "          docLink.innerHTML = docLinkHtml;\n",
              "          element.appendChild(docLink);\n",
              "        }\n",
              "      </script>\n",
              "    </div>\n",
              "  </div>\n",
              "  "
            ]
          },
          "metadata": {},
          "execution_count": 81
        }
      ]
    },
    {
      "cell_type": "markdown",
      "source": [
        "\n",
        "\n",
        "**GRAFICOS** \n",
        "\n"
      ],
      "metadata": {
        "id": "kj8hpKkKEvQa"
      }
    },
    {
      "cell_type": "code",
      "source": [
        "inmuebles['Precio_Millon'].plot.hist(bins=100)\n"
      ],
      "metadata": {
        "colab": {
          "base_uri": "https://localhost:8080/",
          "height": 447
        },
        "id": "R8xmmBrvErTn",
        "outputId": "f23c31a7-38ac-4bdd-da71-ace1a59d43c4"
      },
      "execution_count": 82,
      "outputs": [
        {
          "output_type": "execute_result",
          "data": {
            "text/plain": [
              "<Axes: ylabel='Frequency'>"
            ]
          },
          "metadata": {},
          "execution_count": 82
        },
        {
          "output_type": "display_data",
          "data": {
            "text/plain": [
              "<Figure size 640x480 with 1 Axes>"
            ],
            "image/png": "[encoded data removed]"
          },
          "metadata": {}
        }
      ]
    },
    {
      "cell_type": "markdown",
      "source": [
        "13- Como vemos la visualizacion de datos es confuza con pandas, python ofrece otras librerias para trabajar en conjunto como **matplotlib**  y **seaborn**\n",
        "a continuacion se mostrara su uso."
      ],
      "metadata": {
        "id": "ZtoV8X4fXPVP"
      }
    },
    {
      "cell_type": "code",
      "source": [
        "import matplotlib.pyplot as plt\n",
        "import seaborn as sns\n",
        "\n",
        "plt.figure(figsize=(10,6))\n",
        "grafica = sns.histplot(data=inmuebles, x='Precio_Millon', kde=True, hue='Tipo')\n",
        "grafica.set_title('Distribución de Valores de los inmuebles en Bogotá')\n",
        "plt.xlim((50,1000))\n",
        "plt.savefig('/content/drive/MyDrive/Inmersion-datos/valor_inmuebles.png',format='png')\n",
        "plt.show()"
      ],
      "metadata": {
        "colab": {
          "base_uri": "https://localhost:8080/",
          "height": 565
        },
        "id": "l4aUe3yJXH5d",
        "outputId": "ab218148-d216-490f-910b-6409aa86e77b"
      },
      "execution_count": 84,
      "outputs": [
        {
          "output_type": "display_data",
          "data": {
            "text/plain": [
              "<Figure size 1000x600 with 1 Axes>"
            ],
            "image/png": "[encoded data removed]"
          },
          "metadata": {}
        }
      ]
    },
    {
      "cell_type": "markdown",
      "source": [
        "**Desafíos**\n",
        "\n",
        "1-Estudiar mejor el histograma de valores, seleccionar 3 tipos de inmuebles (Refinar el gráfico: Títulos, aumentar el tamaño de labels, colores, conclusión de la información)\n",
        "\n",
        "2-Precio del m2 por barrio y hacer el gráfico más adecuado para esta nueva variable."
      ],
      "metadata": {
        "id": "RgeGh8uWkZuj"
      }
    },
    {
      "cell_type": "markdown",
      "source": [
        "**Precio por metro cuadrado por barrio**"
      ],
      "metadata": {
        "id": "VZDlfZiZ0eY2"
      }
    },
    {
      "cell_type": "code",
      "source": [],
      "metadata": {
        "id": "SPEGrlxMoXfp"
      },
      "execution_count": null,
      "outputs": []
    }
  ]
}